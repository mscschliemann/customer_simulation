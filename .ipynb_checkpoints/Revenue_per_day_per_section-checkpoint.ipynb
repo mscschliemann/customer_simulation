{
 "cells": [
  {
   "cell_type": "code",
   "execution_count": 98,
   "metadata": {},
   "outputs": [],
   "source": [
    "import pandas as pd\n",
    "import numpy as np\n",
    "import glob"
   ]
  },
  {
   "cell_type": "markdown",
   "metadata": {},
   "source": [
    "### Revenue estimation per section per day:"
   ]
  },
  {
   "cell_type": "code",
   "execution_count": 99,
   "metadata": {},
   "outputs": [],
   "source": [
    "all_files = glob.glob('data/*.csv')\n",
    "dates = ['Monday, 2019-02-08', 'Tuesday, 2019-02-09', 'Wednesday, 2019-02-10', 'Thursday, 2019-02-08','Friday, 2019-02-08']\n",
    "\n",
    "\n",
    "rev_dict = {'Fruits': [],\n",
    "        'Spices': [],\n",
    "            'Dairy':[],\n",
    "            'Drinks': []\n",
    "        }\n",
    "\n",
    "day = 0\n",
    "for filename in all_files:\n",
    "    #print(filename)\n",
    "    df = pd.read_csv(filename, index_col=None, sep= ';', header=0)\n",
    "    \n",
    "    # create dummy column for counts\n",
    "    df['dummy'] = 1\n",
    "    \n",
    "    # create revenue column\n",
    "\n",
    "    def label_revenue (row):\n",
    "        if row['location'] == 'fruit' :\n",
    "            return 4\n",
    "        if row['location'] == 'spices' :\n",
    "            return 3\n",
    "        if row['location'] == 'dairy' :\n",
    "            return 5\n",
    "        if row['location'] == 'drinks' :\n",
    "            return 6\n",
    "\n",
    "    df['revenue'] = df.apply(label_revenue, axis=1)\n",
    "    \n",
    "    df.timestamp = pd.to_datetime(df.timestamp)\n",
    "    df = df.set_index('timestamp')\n",
    "    \n",
    "    df_fruits = df[df['location']=='fruit']\n",
    "    fruits_rev = df_fruits['revenue'].sum()\n",
    "    df_spices = df[df['location']=='spices']\n",
    "    spices_rev = df_spices['revenue'].sum()\n",
    "    df_dairy = df[df['location']=='dairy']\n",
    "    dairy_rev = df_dairy['revenue'].sum()\n",
    "    df_drinks = df[df['location']=='drinks']\n",
    "    drinks_rev = df_drinks['revenue'].sum()\n",
    "\n",
    "    max_rev = max([fruits_rev, spices_rev, dairy_rev, drinks_rev])\n",
    "    \n",
    "    rev_dict[\"Fruits\"].append(fruits_rev)\n",
    "    rev_dict[\"Spices\"].append(spices_rev)\n",
    "    rev_dict[\"Dairy\"].append(dairy_rev)\n",
    "    rev_dict[\"Drinks\"].append(drinks_rev)\n",
    "    \n",
    "    current_date = dates[day]\n",
    "\n",
    "#     print('Revenues per section on {current_date}\\n',\n",
    "#          'fruits:', fruits_rev, \n",
    "#           '\\n spices', spices_rev,\n",
    "#          '\\n dairy', dairy_rev,\n",
    "#          '\\n drinks', drinks_rev)\n",
    "    \n",
    "    day = day + 1"
   ]
  },
  {
   "cell_type": "code",
   "execution_count": 127,
   "metadata": {},
   "outputs": [
    {
     "data": {
      "text/plain": [
       "{'Fruits': [3904.0, 4020.0, 4164.0, 4172.0, 4228.0],\n",
       " 'Spices': [2082.0, 2250.0, 2370.0, 2190.0, 2370.0],\n",
       " 'Dairy': [4555.0, 4475.0, 4825.0, 4880.0, 4660.0],\n",
       " 'Drinks': [4278.0, 4782.0, 4656.0, 4650.0, 5064.0]}"
      ]
     },
     "execution_count": 127,
     "metadata": {},
     "output_type": "execute_result"
    }
   ],
   "source": [
    "rev_dict"
   ]
  },
  {
   "cell_type": "code",
   "execution_count": 103,
   "metadata": {},
   "outputs": [
    {
     "data": {
      "text/html": [
       "<div>\n",
       "<style scoped>\n",
       "    .dataframe tbody tr th:only-of-type {\n",
       "        vertical-align: middle;\n",
       "    }\n",
       "\n",
       "    .dataframe tbody tr th {\n",
       "        vertical-align: top;\n",
       "    }\n",
       "\n",
       "    .dataframe thead th {\n",
       "        text-align: right;\n",
       "    }\n",
       "</style>\n",
       "<table border=\"1\" class=\"dataframe\">\n",
       "  <thead>\n",
       "    <tr style=\"text-align: right;\">\n",
       "      <th></th>\n",
       "      <th>Fruits</th>\n",
       "      <th>Spices</th>\n",
       "      <th>Dairy</th>\n",
       "      <th>Drinks</th>\n",
       "      <th>Day_Total</th>\n",
       "    </tr>\n",
       "  </thead>\n",
       "  <tbody>\n",
       "    <tr>\n",
       "      <th>Monday, 2019-02-08</th>\n",
       "      <td>3904.0</td>\n",
       "      <td>2082.0</td>\n",
       "      <td>4555.0</td>\n",
       "      <td>4278.0</td>\n",
       "      <td>14819.0</td>\n",
       "    </tr>\n",
       "    <tr>\n",
       "      <th>Tuesday, 2019-02-09</th>\n",
       "      <td>4020.0</td>\n",
       "      <td>2250.0</td>\n",
       "      <td>4475.0</td>\n",
       "      <td>4782.0</td>\n",
       "      <td>15527.0</td>\n",
       "    </tr>\n",
       "    <tr>\n",
       "      <th>Wednesday, 2019-02-10</th>\n",
       "      <td>4164.0</td>\n",
       "      <td>2370.0</td>\n",
       "      <td>4825.0</td>\n",
       "      <td>4656.0</td>\n",
       "      <td>16015.0</td>\n",
       "    </tr>\n",
       "    <tr>\n",
       "      <th>Thursday, 2019-02-08</th>\n",
       "      <td>4172.0</td>\n",
       "      <td>2190.0</td>\n",
       "      <td>4880.0</td>\n",
       "      <td>4650.0</td>\n",
       "      <td>15892.0</td>\n",
       "    </tr>\n",
       "    <tr>\n",
       "      <th>Friday, 2019-02-08</th>\n",
       "      <td>4228.0</td>\n",
       "      <td>2370.0</td>\n",
       "      <td>4660.0</td>\n",
       "      <td>5064.0</td>\n",
       "      <td>16322.0</td>\n",
       "    </tr>\n",
       "    <tr>\n",
       "      <th>Section_Total</th>\n",
       "      <td>20488.0</td>\n",
       "      <td>11262.0</td>\n",
       "      <td>23395.0</td>\n",
       "      <td>23430.0</td>\n",
       "      <td>78575.0</td>\n",
       "    </tr>\n",
       "  </tbody>\n",
       "</table>\n",
       "</div>"
      ],
      "text/plain": [
       "                        Fruits   Spices    Dairy   Drinks  Day_Total\n",
       "Monday, 2019-02-08      3904.0   2082.0   4555.0   4278.0    14819.0\n",
       "Tuesday, 2019-02-09     4020.0   2250.0   4475.0   4782.0    15527.0\n",
       "Wednesday, 2019-02-10   4164.0   2370.0   4825.0   4656.0    16015.0\n",
       "Thursday, 2019-02-08    4172.0   2190.0   4880.0   4650.0    15892.0\n",
       "Friday, 2019-02-08      4228.0   2370.0   4660.0   5064.0    16322.0\n",
       "Section_Total          20488.0  11262.0  23395.0  23430.0    78575.0"
      ]
     },
     "execution_count": 103,
     "metadata": {},
     "output_type": "execute_result"
    }
   ],
   "source": [
    "rev_df = pd.DataFrame(rev_dict, columns = ['Fruits','Spices', 'Dairy', 'Drinks'], index=dates)\n",
    "rev_df.loc['Section_Total']= rev_df.sum(numeric_only=True, axis=0)\n",
    "rev_df.loc[:,'Day_Total'] = rev_df.sum(numeric_only=True, axis=1)\n",
    "rev_df"
   ]
  },
  {
   "cell_type": "code",
   "execution_count": 102,
   "metadata": {},
   "outputs": [],
   "source": [
    "df[]"
   ]
  },
  {
   "cell_type": "code",
   "execution_count": 117,
   "metadata": {},
   "outputs": [],
   "source": [
    "df = pd.read_csv('./data/monday.csv', sep=';')    \n",
    "    # create dummy column for counts\n",
    "df['dummy'] = 1\n",
    "\n",
    "# create revenue column\n",
    "def label_revenue (row):\n",
    "    if row['location'] == 'fruit' :\n",
    "        return 4\n",
    "    if row['location'] == 'spices' :\n",
    "        return 3\n",
    "    if row['location'] == 'dairy' :\n",
    "        return 5\n",
    "    if row['location'] == 'drinks' :\n",
    "        return 6\n",
    "\n",
    "df['revenue'] = df.apply(label_revenue, axis=1)\n",
    "df.timestamp = pd.to_datetime(df.timestamp)\n",
    "df = df.set_index('timestamp')\n",
    "\n",
    "\n",
    "'Fruits': [],\n",
    "\n",
    "for i in range(1, (df['customer_no'].nunique())+1):\n",
    "    df_sub = df[df['customer_no']==i]\n",
    "    df_sub_resampled = df_sub.resample(rule='1MIN').ffill()\n",
    "\n",
    "    revenue = df_sub_resampled['revenue'].sum()\n",
    "            \n",
    "    #cust_rev_dict[\"Customer_no\"].append(i)\n",
    "    #cust_rev_dict[\"Revenue\"].append(revenue)\n",
    "    \n",
    "    cust_rev_dict.update( {i : revenue} )\n"
   ]
  },
  {
   "cell_type": "code",
   "execution_count": 126,
   "metadata": {},
   "outputs": [
    {
     "ename": "KeyError",
     "evalue": "0",
     "output_type": "error",
     "traceback": [
      "\u001b[0;31m---------------------------------------------------------------------------\u001b[0m",
      "\u001b[0;31mKeyError\u001b[0m                                  Traceback (most recent call last)",
      "\u001b[0;32m<ipython-input-126-0bb0af196058>\u001b[0m in \u001b[0;36m<module>\u001b[0;34m\u001b[0m\n\u001b[0;32m----> 1\u001b[0;31m \u001b[0mrev_df\u001b[0m \u001b[0;34m=\u001b[0m \u001b[0mpd\u001b[0m\u001b[0;34m.\u001b[0m\u001b[0mDataFrame\u001b[0m\u001b[0;34m(\u001b[0m\u001b[0mcust_rev_dict\u001b[0m\u001b[0;34m,\u001b[0m \u001b[0mcolumns\u001b[0m \u001b[0;34m=\u001b[0m \u001b[0;34m[\u001b[0m\u001b[0mcust_rev_dict\u001b[0m\u001b[0;34m[\u001b[0m\u001b[0;36m0\u001b[0m\u001b[0;34m]\u001b[0m\u001b[0;34m,\u001b[0m \u001b[0mcust_rev_dict\u001b[0m\u001b[0;34m[\u001b[0m\u001b[0;36m1\u001b[0m\u001b[0;34m]\u001b[0m\u001b[0;34m]\u001b[0m\u001b[0;34m)\u001b[0m\u001b[0;34m\u001b[0m\u001b[0;34m\u001b[0m\u001b[0m\n\u001b[0m\u001b[1;32m      2\u001b[0m \u001b[0mrev_df\u001b[0m\u001b[0;34m.\u001b[0m\u001b[0mhead\u001b[0m\u001b[0;34m(\u001b[0m\u001b[0;34m)\u001b[0m\u001b[0;34m\u001b[0m\u001b[0;34m\u001b[0m\u001b[0m\n",
      "\u001b[0;31mKeyError\u001b[0m: 0"
     ]
    }
   ],
   "source": [
    "rev_df = pd.DataFrame(cust_rev_dict, columns = [cust_rev_dict[0], cust_rev_dict[1]])\n",
    "rev_df.head()"
   ]
  },
  {
   "cell_type": "code",
   "execution_count": null,
   "metadata": {},
   "outputs": [],
   "source": []
  }
 ],
 "metadata": {
  "kernelspec": {
   "display_name": "Python 3",
   "language": "python",
   "name": "python3"
  },
  "language_info": {
   "codemirror_mode": {
    "name": "ipython",
    "version": 3
   },
   "file_extension": ".py",
   "mimetype": "text/x-python",
   "name": "python",
   "nbconvert_exporter": "python",
   "pygments_lexer": "ipython3",
   "version": "3.8.5"
  }
 },
 "nbformat": 4,
 "nbformat_minor": 4
}
