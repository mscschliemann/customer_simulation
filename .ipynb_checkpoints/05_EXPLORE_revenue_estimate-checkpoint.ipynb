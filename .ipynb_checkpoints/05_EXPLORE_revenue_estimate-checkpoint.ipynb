{
 "cells": [
  {
   "cell_type": "markdown",
   "metadata": {},
   "source": [
    "\n",
    "\n",
    "### Estimatation of the total revenue (weekday=monday) for a customer for: section - revenue per minute\n",
    "* fruit \t4€\n",
    "* spices \t3€\n",
    "* dairy \t5€\n",
    "* drinks \t6€"
   ]
  },
  {
   "cell_type": "code",
   "execution_count": 31,
   "metadata": {},
   "outputs": [],
   "source": [
    "## Customer journeys:\n",
    "\n",
    "# How long did the customer spend in each section they visited?\n",
    "# times the revenue per imit\n",
    "# add up to total revenue "
   ]
  },
  {
   "cell_type": "code",
   "execution_count": 47,
   "metadata": {},
   "outputs": [],
   "source": [
    "import pandas as pd\n",
    "from matplotlib import pyplot as plt\n",
    "import numpy as np"
   ]
  },
  {
   "cell_type": "code",
   "execution_count": 48,
   "metadata": {},
   "outputs": [],
   "source": [
    "# upload one file (later all - customer no starts with 1 every day)\n",
    "df = pd.read_csv('./data/monday.csv', sep=';') # , index_col=0"
   ]
  },
  {
   "cell_type": "code",
   "execution_count": 50,
   "metadata": {},
   "outputs": [],
   "source": [
    "# create dummy column for counts\n",
    "df['dummy'] = 1"
   ]
  },
  {
   "cell_type": "code",
   "execution_count": 51,
   "metadata": {},
   "outputs": [],
   "source": [
    "# create revenue column\n",
    "\n",
    "def label_revenue (row):\n",
    "    if row['location'] == 'fruit' :\n",
    "        return 4\n",
    "    if row['location'] == 'spices' :\n",
    "        return 3\n",
    "    if row['location'] == 'dairy' :\n",
    "        return 5\n",
    "    if row['location'] == 'drinks' :\n",
    "        return 6\n",
    "\n",
    "\n",
    "df['revenue'] = df.apply(label_revenue, axis=1)"
   ]
  },
  {
   "cell_type": "code",
   "execution_count": 52,
   "metadata": {},
   "outputs": [
    {
     "data": {
      "text/html": [
       "<div>\n",
       "<style scoped>\n",
       "    .dataframe tbody tr th:only-of-type {\n",
       "        vertical-align: middle;\n",
       "    }\n",
       "\n",
       "    .dataframe tbody tr th {\n",
       "        vertical-align: top;\n",
       "    }\n",
       "\n",
       "    .dataframe thead th {\n",
       "        text-align: right;\n",
       "    }\n",
       "</style>\n",
       "<table border=\"1\" class=\"dataframe\">\n",
       "  <thead>\n",
       "    <tr style=\"text-align: right;\">\n",
       "      <th></th>\n",
       "      <th>timestamp</th>\n",
       "      <th>customer_no</th>\n",
       "      <th>location</th>\n",
       "      <th>dummy</th>\n",
       "      <th>revenue</th>\n",
       "    </tr>\n",
       "  </thead>\n",
       "  <tbody>\n",
       "    <tr>\n",
       "      <th>4881</th>\n",
       "      <td>2019-09-02 21:49:00</td>\n",
       "      <td>1445</td>\n",
       "      <td>dairy</td>\n",
       "      <td>1</td>\n",
       "      <td>5.0</td>\n",
       "    </tr>\n",
       "    <tr>\n",
       "      <th>4882</th>\n",
       "      <td>2019-09-02 21:50:00</td>\n",
       "      <td>1446</td>\n",
       "      <td>dairy</td>\n",
       "      <td>1</td>\n",
       "      <td>5.0</td>\n",
       "    </tr>\n",
       "    <tr>\n",
       "      <th>4883</th>\n",
       "      <td>2019-09-02 21:50:00</td>\n",
       "      <td>1447</td>\n",
       "      <td>fruit</td>\n",
       "      <td>1</td>\n",
       "      <td>4.0</td>\n",
       "    </tr>\n",
       "  </tbody>\n",
       "</table>\n",
       "</div>"
      ],
      "text/plain": [
       "                timestamp  customer_no location  dummy  revenue\n",
       "4881  2019-09-02 21:49:00         1445    dairy      1      5.0\n",
       "4882  2019-09-02 21:50:00         1446    dairy      1      5.0\n",
       "4883  2019-09-02 21:50:00         1447    fruit      1      4.0"
      ]
     },
     "execution_count": 52,
     "metadata": {},
     "output_type": "execute_result"
    }
   ],
   "source": [
    "df.tail(3)"
   ]
  },
  {
   "cell_type": "code",
   "execution_count": 53,
   "metadata": {},
   "outputs": [
    {
     "data": {
      "text/html": [
       "<div>\n",
       "<style scoped>\n",
       "    .dataframe tbody tr th:only-of-type {\n",
       "        vertical-align: middle;\n",
       "    }\n",
       "\n",
       "    .dataframe tbody tr th {\n",
       "        vertical-align: top;\n",
       "    }\n",
       "\n",
       "    .dataframe thead th {\n",
       "        text-align: right;\n",
       "    }\n",
       "</style>\n",
       "<table border=\"1\" class=\"dataframe\">\n",
       "  <thead>\n",
       "    <tr style=\"text-align: right;\">\n",
       "      <th></th>\n",
       "      <th>customer_no</th>\n",
       "      <th>location</th>\n",
       "      <th>dummy</th>\n",
       "      <th>revenue</th>\n",
       "    </tr>\n",
       "    <tr>\n",
       "      <th>timestamp</th>\n",
       "      <th></th>\n",
       "      <th></th>\n",
       "      <th></th>\n",
       "      <th></th>\n",
       "    </tr>\n",
       "  </thead>\n",
       "  <tbody>\n",
       "    <tr>\n",
       "      <th>2019-09-02 07:03:00</th>\n",
       "      <td>1</td>\n",
       "      <td>dairy</td>\n",
       "      <td>1</td>\n",
       "      <td>5.0</td>\n",
       "    </tr>\n",
       "    <tr>\n",
       "      <th>2019-09-02 07:03:00</th>\n",
       "      <td>2</td>\n",
       "      <td>dairy</td>\n",
       "      <td>1</td>\n",
       "      <td>5.0</td>\n",
       "    </tr>\n",
       "  </tbody>\n",
       "</table>\n",
       "</div>"
      ],
      "text/plain": [
       "                     customer_no location  dummy  revenue\n",
       "timestamp                                                \n",
       "2019-09-02 07:03:00            1    dairy      1      5.0\n",
       "2019-09-02 07:03:00            2    dairy      1      5.0"
      ]
     },
     "execution_count": 53,
     "metadata": {},
     "output_type": "execute_result"
    }
   ],
   "source": [
    "df.timestamp = pd.to_datetime(df.timestamp)\n",
    "df = df.set_index('timestamp')\n",
    "df.head(2)"
   ]
  },
  {
   "cell_type": "code",
   "execution_count": 72,
   "metadata": {},
   "outputs": [
    {
     "data": {
      "text/html": [
       "<div>\n",
       "<style scoped>\n",
       "    .dataframe tbody tr th:only-of-type {\n",
       "        vertical-align: middle;\n",
       "    }\n",
       "\n",
       "    .dataframe tbody tr th {\n",
       "        vertical-align: top;\n",
       "    }\n",
       "\n",
       "    .dataframe thead th {\n",
       "        text-align: right;\n",
       "    }\n",
       "</style>\n",
       "<table border=\"1\" class=\"dataframe\">\n",
       "  <thead>\n",
       "    <tr style=\"text-align: right;\">\n",
       "      <th></th>\n",
       "      <th>customer_no</th>\n",
       "      <th>location</th>\n",
       "      <th>dummy</th>\n",
       "      <th>revenue</th>\n",
       "    </tr>\n",
       "    <tr>\n",
       "      <th>timestamp</th>\n",
       "      <th></th>\n",
       "      <th></th>\n",
       "      <th></th>\n",
       "      <th></th>\n",
       "    </tr>\n",
       "  </thead>\n",
       "  <tbody>\n",
       "    <tr>\n",
       "      <th>2019-09-02 07:17:00</th>\n",
       "      <td>30</td>\n",
       "      <td>spices</td>\n",
       "      <td>1</td>\n",
       "      <td>3.0</td>\n",
       "    </tr>\n",
       "    <tr>\n",
       "      <th>2019-09-02 07:18:00</th>\n",
       "      <td>30</td>\n",
       "      <td>drinks</td>\n",
       "      <td>1</td>\n",
       "      <td>6.0</td>\n",
       "    </tr>\n",
       "    <tr>\n",
       "      <th>2019-09-02 07:19:00</th>\n",
       "      <td>30</td>\n",
       "      <td>fruit</td>\n",
       "      <td>1</td>\n",
       "      <td>4.0</td>\n",
       "    </tr>\n",
       "    <tr>\n",
       "      <th>2019-09-02 07:20:00</th>\n",
       "      <td>30</td>\n",
       "      <td>dairy</td>\n",
       "      <td>1</td>\n",
       "      <td>5.0</td>\n",
       "    </tr>\n",
       "    <tr>\n",
       "      <th>2019-09-02 07:21:00</th>\n",
       "      <td>30</td>\n",
       "      <td>fruit</td>\n",
       "      <td>1</td>\n",
       "      <td>4.0</td>\n",
       "    </tr>\n",
       "    <tr>\n",
       "      <th>2019-09-02 07:23:00</th>\n",
       "      <td>30</td>\n",
       "      <td>checkout</td>\n",
       "      <td>1</td>\n",
       "      <td>NaN</td>\n",
       "    </tr>\n",
       "  </tbody>\n",
       "</table>\n",
       "</div>"
      ],
      "text/plain": [
       "                     customer_no  location  dummy  revenue\n",
       "timestamp                                                 \n",
       "2019-09-02 07:17:00           30    spices      1      3.0\n",
       "2019-09-02 07:18:00           30    drinks      1      6.0\n",
       "2019-09-02 07:19:00           30     fruit      1      4.0\n",
       "2019-09-02 07:20:00           30     dairy      1      5.0\n",
       "2019-09-02 07:21:00           30     fruit      1      4.0\n",
       "2019-09-02 07:23:00           30  checkout      1      NaN"
      ]
     },
     "execution_count": 72,
     "metadata": {},
     "output_type": "execute_result"
    }
   ],
   "source": [
    "# create subset of dataframe for one customer_no:\n",
    "df_sub = df[df['customer_no']==30]\n",
    "df_sub"
   ]
  },
  {
   "cell_type": "code",
   "execution_count": 73,
   "metadata": {},
   "outputs": [
    {
     "data": {
      "text/html": [
       "<div>\n",
       "<style scoped>\n",
       "    .dataframe tbody tr th:only-of-type {\n",
       "        vertical-align: middle;\n",
       "    }\n",
       "\n",
       "    .dataframe tbody tr th {\n",
       "        vertical-align: top;\n",
       "    }\n",
       "\n",
       "    .dataframe thead th {\n",
       "        text-align: right;\n",
       "    }\n",
       "</style>\n",
       "<table border=\"1\" class=\"dataframe\">\n",
       "  <thead>\n",
       "    <tr style=\"text-align: right;\">\n",
       "      <th></th>\n",
       "      <th>customer_no</th>\n",
       "      <th>location</th>\n",
       "      <th>dummy</th>\n",
       "      <th>revenue</th>\n",
       "    </tr>\n",
       "    <tr>\n",
       "      <th>timestamp</th>\n",
       "      <th></th>\n",
       "      <th></th>\n",
       "      <th></th>\n",
       "      <th></th>\n",
       "    </tr>\n",
       "  </thead>\n",
       "  <tbody>\n",
       "    <tr>\n",
       "      <th>2019-09-02 07:17:00</th>\n",
       "      <td>30</td>\n",
       "      <td>spices</td>\n",
       "      <td>1</td>\n",
       "      <td>3.0</td>\n",
       "    </tr>\n",
       "    <tr>\n",
       "      <th>2019-09-02 07:18:00</th>\n",
       "      <td>30</td>\n",
       "      <td>drinks</td>\n",
       "      <td>1</td>\n",
       "      <td>6.0</td>\n",
       "    </tr>\n",
       "    <tr>\n",
       "      <th>2019-09-02 07:19:00</th>\n",
       "      <td>30</td>\n",
       "      <td>fruit</td>\n",
       "      <td>1</td>\n",
       "      <td>4.0</td>\n",
       "    </tr>\n",
       "    <tr>\n",
       "      <th>2019-09-02 07:20:00</th>\n",
       "      <td>30</td>\n",
       "      <td>dairy</td>\n",
       "      <td>1</td>\n",
       "      <td>5.0</td>\n",
       "    </tr>\n",
       "    <tr>\n",
       "      <th>2019-09-02 07:21:00</th>\n",
       "      <td>30</td>\n",
       "      <td>fruit</td>\n",
       "      <td>1</td>\n",
       "      <td>4.0</td>\n",
       "    </tr>\n",
       "    <tr>\n",
       "      <th>2019-09-02 07:22:00</th>\n",
       "      <td>30</td>\n",
       "      <td>fruit</td>\n",
       "      <td>1</td>\n",
       "      <td>4.0</td>\n",
       "    </tr>\n",
       "    <tr>\n",
       "      <th>2019-09-02 07:23:00</th>\n",
       "      <td>30</td>\n",
       "      <td>checkout</td>\n",
       "      <td>1</td>\n",
       "      <td>NaN</td>\n",
       "    </tr>\n",
       "  </tbody>\n",
       "</table>\n",
       "</div>"
      ],
      "text/plain": [
       "                     customer_no  location  dummy  revenue\n",
       "timestamp                                                 \n",
       "2019-09-02 07:17:00           30    spices      1      3.0\n",
       "2019-09-02 07:18:00           30    drinks      1      6.0\n",
       "2019-09-02 07:19:00           30     fruit      1      4.0\n",
       "2019-09-02 07:20:00           30     dairy      1      5.0\n",
       "2019-09-02 07:21:00           30     fruit      1      4.0\n",
       "2019-09-02 07:22:00           30     fruit      1      4.0\n",
       "2019-09-02 07:23:00           30  checkout      1      NaN"
      ]
     },
     "execution_count": 73,
     "metadata": {},
     "output_type": "execute_result"
    }
   ],
   "source": [
    "## resample the dataframe to get the whole time the customer spend in the supermarket\n",
    "df_sub_resampled = df_sub.resample(rule='1MIN').ffill()\n",
    "df_sub_resampled"
   ]
  },
  {
   "cell_type": "code",
   "execution_count": 74,
   "metadata": {},
   "outputs": [
    {
     "data": {
      "text/plain": [
       "22.0"
      ]
     },
     "execution_count": 74,
     "metadata": {},
     "output_type": "execute_result"
    }
   ],
   "source": [
    "# calculate revenue (sum of revenue col)\n",
    "revenue = df_sub['revenue'].sum()\n",
    "revenue"
   ]
  },
  {
   "cell_type": "markdown",
   "metadata": {},
   "source": [
    "### Revenue per section after one day:"
   ]
  },
  {
   "cell_type": "code",
   "execution_count": 76,
   "metadata": {},
   "outputs": [
    {
     "name": "stdout",
     "output_type": "stream",
     "text": [
      "Revenues per section\n",
      " fruits: 4020.0 \n",
      " spices 2250.0 \n",
      " dairy 4475.0 \n",
      " drinks 4782.0 \n",
      " most profitable section on monday: drinks\n"
     ]
    }
   ],
   "source": [
    "df_fruits = df[df['location']=='fruit']\n",
    "fruits_rev = df_fruits['revenue'].sum()\n",
    "\n",
    "df_spices = df[df['location']=='spices']\n",
    "spices_rev = df_spices['revenue'].sum()\n",
    "\n",
    "df_dairy = df[df['location']=='dairy']\n",
    "dairy_rev = df_dairy['revenue'].sum()\n",
    "\n",
    "df_drinks = df[df['location']=='drinks']\n",
    "drinks_rev = df_drinks['revenue'].sum()\n",
    "\n",
    "max_rev = max([fruits_rev, spices_rev, dairy_rev, drinks_rev])\n",
    "\n",
    "print('Revenues per section\\n',\n",
    "     'fruits:', fruits_rev, \n",
    "      '\\n spices', spices_rev,\n",
    "     '\\n dairy', dairy_rev,\n",
    "     '\\n drinks', drinks_rev,\n",
    "     '\\n most profitable section on monday: drinks')"
   ]
  }
 ],
 "metadata": {
  "kernelspec": {
   "display_name": "Python 3",
   "language": "python",
   "name": "python3"
  },
  "language_info": {
   "codemirror_mode": {
    "name": "ipython",
    "version": 3
   },
   "file_extension": ".py",
   "mimetype": "text/x-python",
   "name": "python",
   "nbconvert_exporter": "python",
   "pygments_lexer": "ipython3",
   "version": "3.8.5"
  }
 },
 "nbformat": 4,
 "nbformat_minor": 4
}
