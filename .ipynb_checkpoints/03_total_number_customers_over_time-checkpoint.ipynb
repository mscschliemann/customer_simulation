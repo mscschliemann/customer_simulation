{
 "cells": [
  {
   "cell_type": "markdown",
   "metadata": {},
   "source": [
    "### Exploratory plots customers over time and customers over time in sections"
   ]
  },
  {
   "cell_type": "code",
   "execution_count": 269,
   "metadata": {},
   "outputs": [],
   "source": [
    "import pandas as pd\n",
    "from matplotlib import pyplot as plt\n",
    "import numpy as np\n",
    "import seaborn as sns"
   ]
  },
  {
   "cell_type": "code",
   "execution_count": 279,
   "metadata": {},
   "outputs": [
    {
     "data": {
      "text/html": [
       "<div>\n",
       "<style scoped>\n",
       "    .dataframe tbody tr th:only-of-type {\n",
       "        vertical-align: middle;\n",
       "    }\n",
       "\n",
       "    .dataframe tbody tr th {\n",
       "        vertical-align: top;\n",
       "    }\n",
       "\n",
       "    .dataframe thead th {\n",
       "        text-align: right;\n",
       "    }\n",
       "</style>\n",
       "<table border=\"1\" class=\"dataframe\">\n",
       "  <thead>\n",
       "    <tr style=\"text-align: right;\">\n",
       "      <th></th>\n",
       "      <th>timestamp</th>\n",
       "      <th>customer_no</th>\n",
       "      <th>location</th>\n",
       "    </tr>\n",
       "  </thead>\n",
       "  <tbody>\n",
       "    <tr>\n",
       "      <th>0</th>\n",
       "      <td>2019-09-02 07:03:00</td>\n",
       "      <td>1</td>\n",
       "      <td>dairy</td>\n",
       "    </tr>\n",
       "    <tr>\n",
       "      <th>1</th>\n",
       "      <td>2019-09-02 07:03:00</td>\n",
       "      <td>2</td>\n",
       "      <td>dairy</td>\n",
       "    </tr>\n",
       "    <tr>\n",
       "      <th>2</th>\n",
       "      <td>2019-09-02 07:04:00</td>\n",
       "      <td>3</td>\n",
       "      <td>dairy</td>\n",
       "    </tr>\n",
       "    <tr>\n",
       "      <th>3</th>\n",
       "      <td>2019-09-02 07:04:00</td>\n",
       "      <td>4</td>\n",
       "      <td>dairy</td>\n",
       "    </tr>\n",
       "    <tr>\n",
       "      <th>4</th>\n",
       "      <td>2019-09-02 07:04:00</td>\n",
       "      <td>5</td>\n",
       "      <td>spices</td>\n",
       "    </tr>\n",
       "  </tbody>\n",
       "</table>\n",
       "</div>"
      ],
      "text/plain": [
       "             timestamp  customer_no location\n",
       "0  2019-09-02 07:03:00            1    dairy\n",
       "1  2019-09-02 07:03:00            2    dairy\n",
       "2  2019-09-02 07:04:00            3    dairy\n",
       "3  2019-09-02 07:04:00            4    dairy\n",
       "4  2019-09-02 07:04:00            5   spices"
      ]
     },
     "execution_count": 279,
     "metadata": {},
     "output_type": "execute_result"
    }
   ],
   "source": [
    "# upload one file (later all - customer no starts with 1 every day)\n",
    "df = pd.read_csv('./data/1_monday.csv', sep=';') # , index_col=0\n",
    "#df = pd.read_csv('./data/monday.csv', sep=';', parse_dates =[\"timestamp\"], index_col =\"timestamp\") \n",
    "df.head()"
   ]
  },
  {
   "cell_type": "code",
   "execution_count": 280,
   "metadata": {},
   "outputs": [
    {
     "data": {
      "text/plain": [
       "[1430, 1433, 1437, 1439, 1440, 1441, 1443, 1445, 1446, 1447]"
      ]
     },
     "execution_count": 280,
     "metadata": {},
     "output_type": "execute_result"
    }
   ],
   "source": [
    "# create checkout for the customers at the end of the day\n",
    "\n",
    "cust_checkout_no_record = []\n",
    "for i in range(1, (df['customer_no'].nunique())+1):\n",
    "    df_at = df[df['customer_no']==i] \n",
    "    # print(df_at)\n",
    "    \n",
    "    last_cust_occ = df_at.customer_no[-1:].values\n",
    "    last_loc_occ = df_at.location[-1:].values\n",
    "    # print(last_cust_occ, last_loc_occ)\n",
    "    \n",
    "    if last_loc_occ[0] != 'checkout':\n",
    "        cust_checkout_no_record.append(last_cust_occ[0])\n",
    "\n",
    "cust_checkout_no_record"
   ]
  },
  {
   "cell_type": "code",
   "execution_count": 281,
   "metadata": {},
   "outputs": [
    {
     "data": {
      "text/html": [
       "<div>\n",
       "<style scoped>\n",
       "    .dataframe tbody tr th:only-of-type {\n",
       "        vertical-align: middle;\n",
       "    }\n",
       "\n",
       "    .dataframe tbody tr th {\n",
       "        vertical-align: top;\n",
       "    }\n",
       "\n",
       "    .dataframe thead th {\n",
       "        text-align: right;\n",
       "    }\n",
       "</style>\n",
       "<table border=\"1\" class=\"dataframe\">\n",
       "  <thead>\n",
       "    <tr style=\"text-align: right;\">\n",
       "      <th></th>\n",
       "      <th>timestamp</th>\n",
       "      <th>customer_no</th>\n",
       "      <th>location</th>\n",
       "    </tr>\n",
       "  </thead>\n",
       "  <tbody>\n",
       "    <tr>\n",
       "      <th>4889</th>\n",
       "      <td>2019-09-02 21:55:00</td>\n",
       "      <td>1441</td>\n",
       "      <td>checkout</td>\n",
       "    </tr>\n",
       "    <tr>\n",
       "      <th>4890</th>\n",
       "      <td>2019-09-02 21:55:00</td>\n",
       "      <td>1443</td>\n",
       "      <td>checkout</td>\n",
       "    </tr>\n",
       "    <tr>\n",
       "      <th>4891</th>\n",
       "      <td>2019-09-02 21:55:00</td>\n",
       "      <td>1445</td>\n",
       "      <td>checkout</td>\n",
       "    </tr>\n",
       "    <tr>\n",
       "      <th>4892</th>\n",
       "      <td>2019-09-02 21:55:00</td>\n",
       "      <td>1446</td>\n",
       "      <td>checkout</td>\n",
       "    </tr>\n",
       "    <tr>\n",
       "      <th>4893</th>\n",
       "      <td>2019-09-02 21:55:00</td>\n",
       "      <td>1447</td>\n",
       "      <td>checkout</td>\n",
       "    </tr>\n",
       "  </tbody>\n",
       "</table>\n",
       "</div>"
      ],
      "text/plain": [
       "                timestamp  customer_no  location\n",
       "4889  2019-09-02 21:55:00         1441  checkout\n",
       "4890  2019-09-02 21:55:00         1443  checkout\n",
       "4891  2019-09-02 21:55:00         1445  checkout\n",
       "4892  2019-09-02 21:55:00         1446  checkout\n",
       "4893  2019-09-02 21:55:00         1447  checkout"
      ]
     },
     "execution_count": 281,
     "metadata": {},
     "output_type": "execute_result"
    }
   ],
   "source": [
    "lst_dict = []\n",
    "\n",
    "for cust_no in cust_checkout_no_record:\n",
    "    \n",
    "    # assuming that the remaining customers are checked out at 21:55\n",
    "    new_row_dict = {'timestamp':'2019-09-02 21:55:00', 'customer_no':cust_no, 'location':'checkout'}    \n",
    "    lst_dict.append(new_row_dict)\n",
    "\n",
    "#append rows to the dataframe\n",
    "df = df.append(lst_dict, ignore_index=True)\n",
    "df.tail()"
   ]
  },
  {
   "cell_type": "code",
   "execution_count": 282,
   "metadata": {},
   "outputs": [
    {
     "data": {
      "text/html": [
       "<div>\n",
       "<style scoped>\n",
       "    .dataframe tbody tr th:only-of-type {\n",
       "        vertical-align: middle;\n",
       "    }\n",
       "\n",
       "    .dataframe tbody tr th {\n",
       "        vertical-align: top;\n",
       "    }\n",
       "\n",
       "    .dataframe thead th {\n",
       "        text-align: right;\n",
       "    }\n",
       "</style>\n",
       "<table border=\"1\" class=\"dataframe\">\n",
       "  <thead>\n",
       "    <tr style=\"text-align: right;\">\n",
       "      <th></th>\n",
       "      <th>timestamp</th>\n",
       "      <th>customer_no</th>\n",
       "      <th>location</th>\n",
       "      <th>dummy</th>\n",
       "    </tr>\n",
       "  </thead>\n",
       "  <tbody>\n",
       "    <tr>\n",
       "      <th>0</th>\n",
       "      <td>2019-09-02 07:03:00</td>\n",
       "      <td>1</td>\n",
       "      <td>dairy</td>\n",
       "      <td>1</td>\n",
       "    </tr>\n",
       "    <tr>\n",
       "      <th>1</th>\n",
       "      <td>2019-09-02 07:03:00</td>\n",
       "      <td>2</td>\n",
       "      <td>dairy</td>\n",
       "      <td>1</td>\n",
       "    </tr>\n",
       "    <tr>\n",
       "      <th>2</th>\n",
       "      <td>2019-09-02 07:04:00</td>\n",
       "      <td>3</td>\n",
       "      <td>dairy</td>\n",
       "      <td>1</td>\n",
       "    </tr>\n",
       "    <tr>\n",
       "      <th>3</th>\n",
       "      <td>2019-09-02 07:04:00</td>\n",
       "      <td>4</td>\n",
       "      <td>dairy</td>\n",
       "      <td>1</td>\n",
       "    </tr>\n",
       "    <tr>\n",
       "      <th>4</th>\n",
       "      <td>2019-09-02 07:04:00</td>\n",
       "      <td>5</td>\n",
       "      <td>spices</td>\n",
       "      <td>1</td>\n",
       "    </tr>\n",
       "  </tbody>\n",
       "</table>\n",
       "</div>"
      ],
      "text/plain": [
       "             timestamp  customer_no location  dummy\n",
       "0  2019-09-02 07:03:00            1    dairy      1\n",
       "1  2019-09-02 07:03:00            2    dairy      1\n",
       "2  2019-09-02 07:04:00            3    dairy      1\n",
       "3  2019-09-02 07:04:00            4    dairy      1\n",
       "4  2019-09-02 07:04:00            5   spices      1"
      ]
     },
     "execution_count": 282,
     "metadata": {},
     "output_type": "execute_result"
    }
   ],
   "source": [
    "# create dummy column \n",
    "df['dummy']= 1\n",
    "df.head()"
   ]
  },
  {
   "cell_type": "code",
   "execution_count": 283,
   "metadata": {},
   "outputs": [],
   "source": [
    "df.timestamp = pd.to_datetime(df.timestamp)\n",
    "df = df.set_index('timestamp')"
   ]
  },
  {
   "cell_type": "code",
   "execution_count": 284,
   "metadata": {},
   "outputs": [
    {
     "data": {
      "text/html": [
       "<div>\n",
       "<style scoped>\n",
       "    .dataframe tbody tr th:only-of-type {\n",
       "        vertical-align: middle;\n",
       "    }\n",
       "\n",
       "    .dataframe tbody tr th {\n",
       "        vertical-align: top;\n",
       "    }\n",
       "\n",
       "    .dataframe thead th {\n",
       "        text-align: right;\n",
       "    }\n",
       "</style>\n",
       "<table border=\"1\" class=\"dataframe\">\n",
       "  <thead>\n",
       "    <tr style=\"text-align: right;\">\n",
       "      <th></th>\n",
       "      <th>dummy</th>\n",
       "    </tr>\n",
       "    <tr>\n",
       "      <th>timestamp</th>\n",
       "      <th></th>\n",
       "    </tr>\n",
       "  </thead>\n",
       "  <tbody>\n",
       "    <tr>\n",
       "      <th>2019-09-02 07:03:00</th>\n",
       "      <td>2</td>\n",
       "    </tr>\n",
       "    <tr>\n",
       "      <th>2019-09-02 07:04:00</th>\n",
       "      <td>6</td>\n",
       "    </tr>\n",
       "    <tr>\n",
       "      <th>2019-09-02 07:05:00</th>\n",
       "      <td>4</td>\n",
       "    </tr>\n",
       "    <tr>\n",
       "      <th>2019-09-02 07:06:00</th>\n",
       "      <td>8</td>\n",
       "    </tr>\n",
       "    <tr>\n",
       "      <th>2019-09-02 07:07:00</th>\n",
       "      <td>4</td>\n",
       "    </tr>\n",
       "    <tr>\n",
       "      <th>2019-09-02 07:08:00</th>\n",
       "      <td>4</td>\n",
       "    </tr>\n",
       "    <tr>\n",
       "      <th>2019-09-02 07:09:00</th>\n",
       "      <td>3</td>\n",
       "    </tr>\n",
       "    <tr>\n",
       "      <th>2019-09-02 07:10:00</th>\n",
       "      <td>1</td>\n",
       "    </tr>\n",
       "  </tbody>\n",
       "</table>\n",
       "</div>"
      ],
      "text/plain": [
       "                     dummy\n",
       "timestamp                 \n",
       "2019-09-02 07:03:00      2\n",
       "2019-09-02 07:04:00      6\n",
       "2019-09-02 07:05:00      4\n",
       "2019-09-02 07:06:00      8\n",
       "2019-09-02 07:07:00      4\n",
       "2019-09-02 07:08:00      4\n",
       "2019-09-02 07:09:00      3\n",
       "2019-09-02 07:10:00      1"
      ]
     },
     "execution_count": 284,
     "metadata": {},
     "output_type": "execute_result"
    }
   ],
   "source": [
    "df2 = df.groupby('timestamp')[['dummy']].count()\n",
    "df2.head(8)"
   ]
  },
  {
   "cell_type": "code",
   "execution_count": 285,
   "metadata": {},
   "outputs": [
    {
     "data": {
      "text/html": [
       "<div>\n",
       "<style scoped>\n",
       "    .dataframe tbody tr th:only-of-type {\n",
       "        vertical-align: middle;\n",
       "    }\n",
       "\n",
       "    .dataframe tbody tr th {\n",
       "        vertical-align: top;\n",
       "    }\n",
       "\n",
       "    .dataframe thead th {\n",
       "        text-align: right;\n",
       "    }\n",
       "</style>\n",
       "<table border=\"1\" class=\"dataframe\">\n",
       "  <thead>\n",
       "    <tr style=\"text-align: right;\">\n",
       "      <th></th>\n",
       "      <th>dummy</th>\n",
       "    </tr>\n",
       "    <tr>\n",
       "      <th>timestamp</th>\n",
       "      <th></th>\n",
       "    </tr>\n",
       "  </thead>\n",
       "  <tbody>\n",
       "    <tr>\n",
       "      <th>2019-09-02 07:03:00</th>\n",
       "      <td>2</td>\n",
       "    </tr>\n",
       "    <tr>\n",
       "      <th>2019-09-02 07:04:00</th>\n",
       "      <td>6</td>\n",
       "    </tr>\n",
       "    <tr>\n",
       "      <th>2019-09-02 07:05:00</th>\n",
       "      <td>4</td>\n",
       "    </tr>\n",
       "    <tr>\n",
       "      <th>2019-09-02 07:06:00</th>\n",
       "      <td>8</td>\n",
       "    </tr>\n",
       "    <tr>\n",
       "      <th>2019-09-02 07:07:00</th>\n",
       "      <td>4</td>\n",
       "    </tr>\n",
       "    <tr>\n",
       "      <th>2019-09-02 07:08:00</th>\n",
       "      <td>4</td>\n",
       "    </tr>\n",
       "    <tr>\n",
       "      <th>2019-09-02 07:09:00</th>\n",
       "      <td>3</td>\n",
       "    </tr>\n",
       "    <tr>\n",
       "      <th>2019-09-02 07:10:00</th>\n",
       "      <td>1</td>\n",
       "    </tr>\n",
       "  </tbody>\n",
       "</table>\n",
       "</div>"
      ],
      "text/plain": [
       "                     dummy\n",
       "timestamp                 \n",
       "2019-09-02 07:03:00      2\n",
       "2019-09-02 07:04:00      6\n",
       "2019-09-02 07:05:00      4\n",
       "2019-09-02 07:06:00      8\n",
       "2019-09-02 07:07:00      4\n",
       "2019-09-02 07:08:00      4\n",
       "2019-09-02 07:09:00      3\n",
       "2019-09-02 07:10:00      1"
      ]
     },
     "execution_count": 285,
     "metadata": {},
     "output_type": "execute_result"
    }
   ],
   "source": [
    "## resample\n",
    "df2_resampled = df2.resample(rule='1MIN').ffill()\n",
    "df2_resampled.head(8)"
   ]
  },
  {
   "cell_type": "markdown",
   "metadata": {},
   "source": [
    "#### Calculate the total number of customers in the supermarket over time."
   ]
  },
  {
   "cell_type": "code",
   "execution_count": 286,
   "metadata": {},
   "outputs": [],
   "source": [
    "plt.rcParams['figure.figsize'] = (12, 5)\n",
    "#sns.lineplot(data=df2_resampled, x=\"timestamp\", y=\"dummy\", color ='darkred', label='customer per minute')\n",
    "# aggregate over 5 min/ downsampling\n",
    "#sns.lineplot(data=df2.resample(rule='5MIN').sum(), x=\"timestamp\", y=\"dummy\", color ='green', label='customer per 5 minutes')"
   ]
  },
  {
   "cell_type": "markdown",
   "metadata": {},
   "source": [
    "### best aggregate to see peaks = 30 min: "
   ]
  },
  {
   "cell_type": "code",
   "execution_count": 287,
   "metadata": {},
   "outputs": [
    {
     "data": {
      "text/plain": [
       "[Text(0, 0, '7:00'),\n",
       " Text(1, 0, '7:30'),\n",
       " Text(2, 0, '8:00'),\n",
       " Text(3, 0, '8:30'),\n",
       " Text(4, 0, '9:00'),\n",
       " Text(5, 0, '9:30'),\n",
       " Text(6, 0, '10:00'),\n",
       " Text(7, 0, '10:30'),\n",
       " Text(8, 0, '11:00'),\n",
       " Text(9, 0, '11:30'),\n",
       " Text(10, 0, '12:00'),\n",
       " Text(11, 0, '12:30'),\n",
       " Text(12, 0, '13:00'),\n",
       " Text(13, 0, '13:30'),\n",
       " Text(14, 0, '14:00'),\n",
       " Text(15, 0, '14:30'),\n",
       " Text(16, 0, '15:00'),\n",
       " Text(17, 0, '15:30'),\n",
       " Text(18, 0, '16:00'),\n",
       " Text(19, 0, '16:30'),\n",
       " Text(20, 0, '17:00'),\n",
       " Text(21, 0, '17:30'),\n",
       " Text(22, 0, '18:00'),\n",
       " Text(23, 0, '18:30'),\n",
       " Text(24, 0, '19:00'),\n",
       " Text(25, 0, '19:30'),\n",
       " Text(26, 0, '20:00'),\n",
       " Text(27, 0, '20:30'),\n",
       " Text(28, 0, '21:00'),\n",
       " Text(29, 0, '21:30')]"
      ]
     },
     "execution_count": 287,
     "metadata": {},
     "output_type": "execute_result"
    },
    {
     "data": {
      "image/png": "[encoded data removed]",
      "text/plain": [
       "<Figure size 864x360 with 1 Axes>"
      ]
     },
     "metadata": {},
     "output_type": "display_data"
    }
   ],
   "source": [
    "# sns.lineplot(data=df2.resample(rule='30MIN').sum(), x=\"timestamp\", y=\"dummy\", color ='blue', label='customer per 30 minutes')\n",
    "ax = sns.barplot(x=\"timestamp\", y=\"dummy\", data=df2.resample(rule='30MIN').sum().reset_index(), color='blue')\n",
    "ax.set_title('Distribution of customer count over time (Monday, 2019-02-08)', fontsize=15)\n",
    "ax.set_ylabel('Customer count', fontsize=13)\n",
    "ax.set_xlabel('Time of day', fontsize=13)\n",
    "plt.xticks(rotation=90)\n",
    "labels = ['7:00', '7:30', '8:00', '8:30', '9:00', '9:30', '10:00', '10:30',\n",
    "          '11:00', '11:30', '12:00', '12:30', '13:00', '13:30', '14:00', '14:30',\n",
    "          '15:00', '15:30', '16:00', '16:30', '17:00', '17:30', '18:00', '18:30',\n",
    "           '19:00', '19:30', '20:00', '20:30', '21:00', '21:30'\n",
    "         ]\n",
    "ax.set_xticklabels(labels)"
   ]
  },
  {
   "cell_type": "code",
   "execution_count": 288,
   "metadata": {},
   "outputs": [
    {
     "data": {
      "text/plain": [
       "[Text(0, 0, '7'),\n",
       " Text(1, 0, '8'),\n",
       " Text(2, 0, '9'),\n",
       " Text(3, 0, '10'),\n",
       " Text(4, 0, '11'),\n",
       " Text(5, 0, '12'),\n",
       " Text(6, 0, '13'),\n",
       " Text(7, 0, '14'),\n",
       " Text(8, 0, '15'),\n",
       " Text(9, 0, '16'),\n",
       " Text(10, 0, '17'),\n",
       " Text(11, 0, '18'),\n",
       " Text(12, 0, '19'),\n",
       " Text(13, 0, '20'),\n",
       " Text(14, 0, '21')]"
      ]
     },
     "execution_count": 288,
     "metadata": {},
     "output_type": "execute_result"
    },
    {
     "data": {
      "image/png": "[encoded data removed]",
      "text/plain": [
       "<Figure size 864x360 with 1 Axes>"
      ]
     },
     "metadata": {},
     "output_type": "display_data"
    }
   ],
   "source": [
    "# sns.lineplot(data=df2.resample(rule='1H').sum(), x=\"timestamp\", y=\"dummy\", color ='purple', label='customer per hour')\n",
    "\n",
    "# as barplot\n",
    "df3 = df2.resample(rule='1H').sum().reset_index()\n",
    "\n",
    "sns.set_theme(style=\"whitegrid\")\n",
    "ax = sns.barplot(x=\"timestamp\", y=\"dummy\", data=df3, color='purple')\n",
    "ax.set_title('Total number of customers over time (per hour)', fontsize=15)\n",
    "ax.set_ylabel('Customer count')\n",
    "ax.set_xlabel('Hour of the day')\n",
    "#plt.xticks(rotation=90)\n",
    "#plt.setp( ax.get_xticklabels(), visible=False)\n",
    "#x = [7, 8, 9, 10, 11, 12, 13, 14, 15, 16, 17, 18, 19, 20, 21]\n",
    "#plt.xticks(x, labels, rotation='vertical')\n",
    "#labels = [item.get_text() for item in ax.get_xticklabels()]\n",
    "#labels[1] = 'Testing'\n",
    "labels = list(range(7,22))\n",
    "ax.set_xticklabels(labels)\n",
    "#plt.xticks(rotation=90)\n"
   ]
  },
  {
   "cell_type": "markdown",
   "metadata": {},
   "source": [
    "### number of customers at checkout over time:"
   ]
  },
  {
   "cell_type": "code",
   "execution_count": 290,
   "metadata": {},
   "outputs": [
    {
     "data": {
      "text/plain": [
       "[Text(0, 0, '7:00'),\n",
       " Text(1, 0, '7:30'),\n",
       " Text(2, 0, '8:00'),\n",
       " Text(3, 0, '8:30'),\n",
       " Text(4, 0, '9:00'),\n",
       " Text(5, 0, '9:30'),\n",
       " Text(6, 0, '10:00'),\n",
       " Text(7, 0, '10:30'),\n",
       " Text(8, 0, '11:00'),\n",
       " Text(9, 0, '11:30'),\n",
       " Text(10, 0, '12:00'),\n",
       " Text(11, 0, '12:30'),\n",
       " Text(12, 0, '13:00'),\n",
       " Text(13, 0, '13:30'),\n",
       " Text(14, 0, '14:00'),\n",
       " Text(15, 0, '14:30'),\n",
       " Text(16, 0, '15:00'),\n",
       " Text(17, 0, '15:30'),\n",
       " Text(18, 0, '16:00'),\n",
       " Text(19, 0, '16:30'),\n",
       " Text(20, 0, '17:00'),\n",
       " Text(21, 0, '17:30'),\n",
       " Text(22, 0, '18:00'),\n",
       " Text(23, 0, '18:30'),\n",
       " Text(24, 0, '19:00'),\n",
       " Text(25, 0, '19:30'),\n",
       " Text(26, 0, '20:00'),\n",
       " Text(27, 0, '20:30'),\n",
       " Text(28, 0, '21:00'),\n",
       " Text(29, 0, '21:30')]"
      ]
     },
     "execution_count": 290,
     "metadata": {},
     "output_type": "execute_result"
    },
    {
     "data": {
      "image/png": "[encoded data removed]",
      "text/plain": [
       "<Figure size 864x360 with 1 Axes>"
      ]
     },
     "metadata": {},
     "output_type": "display_data"
    }
   ],
   "source": [
    "df_checkout = df[df.location == \"checkout\"]\n",
    "\n",
    "\n",
    "\n",
    "# sns.lineplot(data=df2.resample(rule='30MIN').sum(), x=\"timestamp\", y=\"dummy\", color ='blue', label='customer per 30 minutes')\n",
    "ax = sns.barplot(x=\"timestamp\", y=\"dummy\", data=df_checkout.resample(rule='30MIN').sum().reset_index(), color='orange')\n",
    "ax.set_title('Distribution of customer count at checkout over time (Monday, 2019-02-08)', fontsize=15)\n",
    "ax.set_ylabel('Customer count', fontsize=13)\n",
    "ax.set_xlabel('Time of day', fontsize=13)\n",
    "plt.xticks(rotation=90)\n",
    "labels = ['7:00', '7:30', '8:00', '8:30', '9:00', '9:30', '10:00', '10:30',\n",
    "          '11:00', '11:30', '12:00', '12:30', '13:00', '13:30', '14:00', '14:30',\n",
    "          '15:00', '15:30', '16:00', '16:30', '17:00', '17:30', '18:00', '18:30',\n",
    "           '19:00', '19:30', '20:00', '20:30', '21:00', '21:30'\n",
    "         ]\n",
    "ax.set_xticklabels(labels)"
   ]
  },
  {
   "cell_type": "code",
   "execution_count": null,
   "metadata": {},
   "outputs": [],
   "source": []
  }
 ],
 "metadata": {
  "kernelspec": {
   "display_name": "Python 3",
   "language": "python",
   "name": "python3"
  },
  "language_info": {
   "codemirror_mode": {
    "name": "ipython",
    "version": 3
   },
   "file_extension": ".py",
   "mimetype": "text/x-python",
   "name": "python",
   "nbconvert_exporter": "python",
   "pygments_lexer": "ipython3",
   "version": "3.8.5"
  }
 },
 "nbformat": 4,
 "nbformat_minor": 4
}
