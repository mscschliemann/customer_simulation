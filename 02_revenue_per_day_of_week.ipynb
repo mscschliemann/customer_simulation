{
 "cells": [
  {
   "cell_type": "code",
   "execution_count": 17,
   "metadata": {},
   "outputs": [],
   "source": [
    "import pandas as pd\n",
    "import numpy as np\n",
    "import seaborn as sns"
   ]
  },
  {
   "cell_type": "markdown",
   "metadata": {},
   "source": [
    "### Revenue per Weekday\n",
    "section - revenue per minute:\n",
    "* fruit \t4€\n",
    "* spices \t3€\n",
    "* dairy \t5€\n",
    "* drinks \t6€"
   ]
  },
  {
   "cell_type": "code",
   "execution_count": 2,
   "metadata": {},
   "outputs": [
    {
     "data": {
      "text/html": [
       "<div>\n",
       "<style scoped>\n",
       "    .dataframe tbody tr th:only-of-type {\n",
       "        vertical-align: middle;\n",
       "    }\n",
       "\n",
       "    .dataframe tbody tr th {\n",
       "        vertical-align: top;\n",
       "    }\n",
       "\n",
       "    .dataframe thead th {\n",
       "        text-align: right;\n",
       "    }\n",
       "</style>\n",
       "<table border=\"1\" class=\"dataframe\">\n",
       "  <thead>\n",
       "    <tr style=\"text-align: right;\">\n",
       "      <th></th>\n",
       "      <th>location</th>\n",
       "      <th>customer_id</th>\n",
       "      <th>date</th>\n",
       "      <th>revenue</th>\n",
       "    </tr>\n",
       "    <tr>\n",
       "      <th>timestamp</th>\n",
       "      <th></th>\n",
       "      <th></th>\n",
       "      <th></th>\n",
       "      <th></th>\n",
       "    </tr>\n",
       "  </thead>\n",
       "  <tbody>\n",
       "    <tr>\n",
       "      <th>2019-09-06 21:49:00</th>\n",
       "      <td>dairy</td>\n",
       "      <td>2019-09-06_1505</td>\n",
       "      <td>2019-09-06</td>\n",
       "      <td>5.0</td>\n",
       "    </tr>\n",
       "    <tr>\n",
       "      <th>2019-09-06 21:50:00</th>\n",
       "      <td>fruit</td>\n",
       "      <td>2019-09-06_1496</td>\n",
       "      <td>2019-09-06</td>\n",
       "      <td>4.0</td>\n",
       "    </tr>\n",
       "    <tr>\n",
       "      <th>2019-09-06 21:50:00</th>\n",
       "      <td>dairy</td>\n",
       "      <td>2019-09-06_1500</td>\n",
       "      <td>2019-09-06</td>\n",
       "      <td>5.0</td>\n",
       "    </tr>\n",
       "    <tr>\n",
       "      <th>2019-09-06 21:50:00</th>\n",
       "      <td>drinks</td>\n",
       "      <td>2019-09-06_1509</td>\n",
       "      <td>2019-09-06</td>\n",
       "      <td>6.0</td>\n",
       "    </tr>\n",
       "    <tr>\n",
       "      <th>2019-09-06 21:50:00</th>\n",
       "      <td>spices</td>\n",
       "      <td>2019-09-06_1510</td>\n",
       "      <td>2019-09-06</td>\n",
       "      <td>3.0</td>\n",
       "    </tr>\n",
       "  </tbody>\n",
       "</table>\n",
       "</div>"
      ],
      "text/plain": [
       "                    location      customer_id        date  revenue\n",
       "timestamp                                                         \n",
       "2019-09-06 21:49:00    dairy  2019-09-06_1505  2019-09-06      5.0\n",
       "2019-09-06 21:50:00    fruit  2019-09-06_1496  2019-09-06      4.0\n",
       "2019-09-06 21:50:00    dairy  2019-09-06_1500  2019-09-06      5.0\n",
       "2019-09-06 21:50:00   drinks  2019-09-06_1509  2019-09-06      6.0\n",
       "2019-09-06 21:50:00   spices  2019-09-06_1510  2019-09-06      3.0"
      ]
     },
     "execution_count": 2,
     "metadata": {},
     "output_type": "execute_result"
    }
   ],
   "source": [
    "df = pd.read_csv('data/data_clean.csv', index_col=0, sep= ',', header=0)\n",
    "\n",
    "# create revenue column\n",
    "def label_revenue (row):\n",
    "    if row['location'] == 'fruit' :\n",
    "        return 4\n",
    "    if row['location'] == 'spices' :\n",
    "        return 3\n",
    "    if row['location'] == 'dairy' :\n",
    "        return 5\n",
    "    if row['location'] == 'drinks' :\n",
    "        return 6\n",
    "\n",
    "df['revenue'] = df.apply(label_revenue, axis=1)\n",
    "df.timestamp = pd.to_datetime(df.timestamp)\n",
    "df = df.set_index('timestamp')\n",
    "\n",
    "# remove checkout rows\n",
    "df = df[df.location != 'checkout']\n",
    "df.tail()"
   ]
  },
  {
   "cell_type": "code",
   "execution_count": 3,
   "metadata": {},
   "outputs": [],
   "source": [
    "### Example: Revenue for one customer:"
   ]
  },
  {
   "cell_type": "code",
   "execution_count": 4,
   "metadata": {},
   "outputs": [
    {
     "data": {
      "text/html": [
       "<div>\n",
       "<style scoped>\n",
       "    .dataframe tbody tr th:only-of-type {\n",
       "        vertical-align: middle;\n",
       "    }\n",
       "\n",
       "    .dataframe tbody tr th {\n",
       "        vertical-align: top;\n",
       "    }\n",
       "\n",
       "    .dataframe thead th {\n",
       "        text-align: right;\n",
       "    }\n",
       "</style>\n",
       "<table border=\"1\" class=\"dataframe\">\n",
       "  <thead>\n",
       "    <tr style=\"text-align: right;\">\n",
       "      <th></th>\n",
       "      <th>location</th>\n",
       "      <th>customer_id</th>\n",
       "      <th>date</th>\n",
       "      <th>revenue</th>\n",
       "    </tr>\n",
       "    <tr>\n",
       "      <th>timestamp</th>\n",
       "      <th></th>\n",
       "      <th></th>\n",
       "      <th></th>\n",
       "      <th></th>\n",
       "    </tr>\n",
       "  </thead>\n",
       "  <tbody>\n",
       "    <tr>\n",
       "      <th>2019-09-02 07:17:00</th>\n",
       "      <td>fruit</td>\n",
       "      <td>2019-09-02_33</td>\n",
       "      <td>2019-09-02</td>\n",
       "      <td>4.0</td>\n",
       "    </tr>\n",
       "    <tr>\n",
       "      <th>2019-09-02 07:18:00</th>\n",
       "      <td>fruit</td>\n",
       "      <td>2019-09-02_33</td>\n",
       "      <td>2019-09-02</td>\n",
       "      <td>4.0</td>\n",
       "    </tr>\n",
       "    <tr>\n",
       "      <th>2019-09-02 07:19:00</th>\n",
       "      <td>fruit</td>\n",
       "      <td>2019-09-02_33</td>\n",
       "      <td>2019-09-02</td>\n",
       "      <td>4.0</td>\n",
       "    </tr>\n",
       "    <tr>\n",
       "      <th>2019-09-02 07:20:00</th>\n",
       "      <td>dairy</td>\n",
       "      <td>2019-09-02_33</td>\n",
       "      <td>2019-09-02</td>\n",
       "      <td>5.0</td>\n",
       "    </tr>\n",
       "    <tr>\n",
       "      <th>2019-09-02 07:21:00</th>\n",
       "      <td>dairy</td>\n",
       "      <td>2019-09-02_33</td>\n",
       "      <td>2019-09-02</td>\n",
       "      <td>5.0</td>\n",
       "    </tr>\n",
       "    <tr>\n",
       "      <th>2019-09-02 07:22:00</th>\n",
       "      <td>spices</td>\n",
       "      <td>2019-09-02_33</td>\n",
       "      <td>2019-09-02</td>\n",
       "      <td>3.0</td>\n",
       "    </tr>\n",
       "    <tr>\n",
       "      <th>2019-09-02 07:23:00</th>\n",
       "      <td>dairy</td>\n",
       "      <td>2019-09-02_33</td>\n",
       "      <td>2019-09-02</td>\n",
       "      <td>5.0</td>\n",
       "    </tr>\n",
       "    <tr>\n",
       "      <th>2019-09-02 07:24:00</th>\n",
       "      <td>drinks</td>\n",
       "      <td>2019-09-02_33</td>\n",
       "      <td>2019-09-02</td>\n",
       "      <td>6.0</td>\n",
       "    </tr>\n",
       "    <tr>\n",
       "      <th>2019-09-02 07:25:00</th>\n",
       "      <td>drinks</td>\n",
       "      <td>2019-09-02_33</td>\n",
       "      <td>2019-09-02</td>\n",
       "      <td>6.0</td>\n",
       "    </tr>\n",
       "    <tr>\n",
       "      <th>2019-09-02 07:26:00</th>\n",
       "      <td>spices</td>\n",
       "      <td>2019-09-02_33</td>\n",
       "      <td>2019-09-02</td>\n",
       "      <td>3.0</td>\n",
       "    </tr>\n",
       "    <tr>\n",
       "      <th>2019-09-02 07:27:00</th>\n",
       "      <td>drinks</td>\n",
       "      <td>2019-09-02_33</td>\n",
       "      <td>2019-09-02</td>\n",
       "      <td>6.0</td>\n",
       "    </tr>\n",
       "  </tbody>\n",
       "</table>\n",
       "</div>"
      ],
      "text/plain": [
       "                    location    customer_id        date  revenue\n",
       "timestamp                                                       \n",
       "2019-09-02 07:17:00    fruit  2019-09-02_33  2019-09-02      4.0\n",
       "2019-09-02 07:18:00    fruit  2019-09-02_33  2019-09-02      4.0\n",
       "2019-09-02 07:19:00    fruit  2019-09-02_33  2019-09-02      4.0\n",
       "2019-09-02 07:20:00    dairy  2019-09-02_33  2019-09-02      5.0\n",
       "2019-09-02 07:21:00    dairy  2019-09-02_33  2019-09-02      5.0\n",
       "2019-09-02 07:22:00   spices  2019-09-02_33  2019-09-02      3.0\n",
       "2019-09-02 07:23:00    dairy  2019-09-02_33  2019-09-02      5.0\n",
       "2019-09-02 07:24:00   drinks  2019-09-02_33  2019-09-02      6.0\n",
       "2019-09-02 07:25:00   drinks  2019-09-02_33  2019-09-02      6.0\n",
       "2019-09-02 07:26:00   spices  2019-09-02_33  2019-09-02      3.0\n",
       "2019-09-02 07:27:00   drinks  2019-09-02_33  2019-09-02      6.0"
      ]
     },
     "execution_count": 4,
     "metadata": {},
     "output_type": "execute_result"
    }
   ],
   "source": [
    "df_sub = df[df['customer_id']== '2019-09-02_33']\n",
    "    \n",
    "# resample with 1 min to get the whole duration of a customer\n",
    "df_sub_resampled = df_sub.resample(rule='1MIN').ffill()\n",
    "df_sub_resampled\n"
   ]
  },
  {
   "cell_type": "code",
   "execution_count": 5,
   "metadata": {},
   "outputs": [
    {
     "data": {
      "text/plain": [
       "51.0"
      ]
     },
     "execution_count": 5,
     "metadata": {},
     "output_type": "execute_result"
    }
   ],
   "source": [
    "revenue_cust33 = df_sub_resampled['revenue'].sum()\n",
    "revenue_cust33"
   ]
  },
  {
   "cell_type": "markdown",
   "metadata": {},
   "source": [
    "### Revenue for every customers:"
   ]
  },
  {
   "cell_type": "code",
   "execution_count": 10,
   "metadata": {},
   "outputs": [],
   "source": [
    "cust_rev_dict = {\n",
    "        'Cust': [],\n",
    "        'Revenue': []}\n",
    "\n",
    "for cust in df['customer_id'].unique():\n",
    "    df_sub = df[df['customer_id']== cust]\n",
    "    #print(df_sub)\n",
    "    \n",
    "    # resample with 1 min to get the whole duration of a customer\n",
    "    df_sub_resampled = df_sub.resample(rule='1MIN').ffill()\n",
    "\n",
    "    revenue = df_sub_resampled['revenue'].sum()\n",
    "\n",
    "    cust_rev_dict[\"Cust\"].append(cust)\n",
    "    cust_rev_dict[\"Revenue\"].append(revenue)"
   ]
  },
  {
   "cell_type": "code",
   "execution_count": 11,
   "metadata": {},
   "outputs": [
    {
     "data": {
      "text/html": [
       "<div>\n",
       "<style scoped>\n",
       "    .dataframe tbody tr th:only-of-type {\n",
       "        vertical-align: middle;\n",
       "    }\n",
       "\n",
       "    .dataframe tbody tr th {\n",
       "        vertical-align: top;\n",
       "    }\n",
       "\n",
       "    .dataframe thead th {\n",
       "        text-align: right;\n",
       "    }\n",
       "</style>\n",
       "<table border=\"1\" class=\"dataframe\">\n",
       "  <thead>\n",
       "    <tr style=\"text-align: right;\">\n",
       "      <th></th>\n",
       "      <th>Cust</th>\n",
       "      <th>Revenue</th>\n",
       "      <th>date</th>\n",
       "    </tr>\n",
       "  </thead>\n",
       "  <tbody>\n",
       "    <tr>\n",
       "      <th>0</th>\n",
       "      <td>2019-09-02_1</td>\n",
       "      <td>5.0</td>\n",
       "      <td>2019-09-02</td>\n",
       "    </tr>\n",
       "    <tr>\n",
       "      <th>1</th>\n",
       "      <td>2019-09-02_2</td>\n",
       "      <td>5.0</td>\n",
       "      <td>2019-09-02</td>\n",
       "    </tr>\n",
       "    <tr>\n",
       "      <th>2</th>\n",
       "      <td>2019-09-02_3</td>\n",
       "      <td>5.0</td>\n",
       "      <td>2019-09-02</td>\n",
       "    </tr>\n",
       "    <tr>\n",
       "      <th>3</th>\n",
       "      <td>2019-09-02_4</td>\n",
       "      <td>5.0</td>\n",
       "      <td>2019-09-02</td>\n",
       "    </tr>\n",
       "    <tr>\n",
       "      <th>4</th>\n",
       "      <td>2019-09-02_5</td>\n",
       "      <td>3.0</td>\n",
       "      <td>2019-09-02</td>\n",
       "    </tr>\n",
       "  </tbody>\n",
       "</table>\n",
       "</div>"
      ],
      "text/plain": [
       "           Cust  Revenue        date\n",
       "0  2019-09-02_1      5.0  2019-09-02\n",
       "1  2019-09-02_2      5.0  2019-09-02\n",
       "2  2019-09-02_3      5.0  2019-09-02\n",
       "3  2019-09-02_4      5.0  2019-09-02\n",
       "4  2019-09-02_5      3.0  2019-09-02"
      ]
     },
     "execution_count": 11,
     "metadata": {},
     "output_type": "execute_result"
    }
   ],
   "source": [
    "rev_df = pd.DataFrame(cust_rev_dict, columns = ['Cust', 'Revenue'])\n",
    "# create date column\n",
    "rev_df['date'] = rev_df['Cust'].str[0:10]\n",
    "rev_df.head"
   ]
  },
  {
   "cell_type": "markdown",
   "metadata": {},
   "source": [
    "### Revenue statistics: "
   ]
  },
  {
   "cell_type": "code",
   "execution_count": 14,
   "metadata": {},
   "outputs": [
    {
     "name": "stdout",
     "output_type": "stream",
     "text": [
      "Maximum revenue: \n",
      "                  Cust  Revenue        date\n",
      "5446  2019-09-05_1047    249.0  2019-09-05 \n",
      "Minimum revenue: \n",
      " 3.0 \n",
      "Average revenue: \n",
      " 20.86944257891202\n"
     ]
    }
   ],
   "source": [
    "max_rev = rev_df[rev_df['Revenue']==rev_df['Revenue'].max()]\n",
    "min_rev = rev_df['Revenue'].min()\n",
    "average_rev =rev_df['Revenue'].mean()\n",
    "\n",
    "\n",
    "print('Maximum revenue: \\n', max_rev,\n",
    "     '\\nMinimum revenue: \\n', min_rev,\n",
    "     '\\nAverage revenue: \\n', average_rev)"
   ]
  },
  {
   "cell_type": "markdown",
   "metadata": {},
   "source": [
    "#### Revenue per Day of the Week & total revenue:"
   ]
  },
  {
   "cell_type": "code",
   "execution_count": 25,
   "metadata": {
    "scrolled": true
   },
   "outputs": [],
   "source": [
    "result = rev_df.groupby('date')[['Revenue']].sum()\n"
   ]
  },
  {
   "cell_type": "code",
   "execution_count": 30,
   "metadata": {},
   "outputs": [
    {
     "data": {
      "image/png": "[encoded data removed]",
      "text/plain": [
       "<Figure size 432x288 with 1 Axes>"
      ]
     },
     "metadata": {},
     "output_type": "display_data"
    }
   ],
   "source": [
    "sns.set_style(\"white\")\n",
    "ax = sns.lineplot(x='date', y='Revenue', data = result.reset_index(), color ='brown')\n",
    "ax.set_title('Revenue over the week', fontsize=15)\n",
    "ax.set_ylabel('Revenue', fontsize=13)\n",
    "ax.set_xlabel('Date', fontsize=13)\n",
    "ax.figure.savefig('plots/revenue.png', dpi=150)\n"
   ]
  },
  {
   "cell_type": "code",
   "execution_count": 23,
   "metadata": {},
   "outputs": [
    {
     "data": {
      "text/html": [
       "<div>\n",
       "<style scoped>\n",
       "    .dataframe tbody tr th:only-of-type {\n",
       "        vertical-align: middle;\n",
       "    }\n",
       "\n",
       "    .dataframe tbody tr th {\n",
       "        vertical-align: top;\n",
       "    }\n",
       "\n",
       "    .dataframe thead th {\n",
       "        text-align: right;\n",
       "    }\n",
       "</style>\n",
       "<table border=\"1\" class=\"dataframe\">\n",
       "  <thead>\n",
       "    <tr style=\"text-align: right;\">\n",
       "      <th></th>\n",
       "      <th>Revenue</th>\n",
       "    </tr>\n",
       "    <tr>\n",
       "      <th>date</th>\n",
       "      <th></th>\n",
       "    </tr>\n",
       "  </thead>\n",
       "  <tbody>\n",
       "    <tr>\n",
       "      <th>2019-09-02</th>\n",
       "      <td>31416.0</td>\n",
       "    </tr>\n",
       "    <tr>\n",
       "      <th>2019-09-03</th>\n",
       "      <td>29063.0</td>\n",
       "    </tr>\n",
       "    <tr>\n",
       "      <th>2019-09-04</th>\n",
       "      <td>31006.0</td>\n",
       "    </tr>\n",
       "    <tr>\n",
       "      <th>2019-09-05</th>\n",
       "      <td>31440.0</td>\n",
       "    </tr>\n",
       "    <tr>\n",
       "      <th>2019-09-06</th>\n",
       "      <td>32448.0</td>\n",
       "    </tr>\n",
       "    <tr>\n",
       "      <th>Total rev for the week</th>\n",
       "      <td>155373.0</td>\n",
       "    </tr>\n",
       "  </tbody>\n",
       "</table>\n",
       "</div>"
      ],
      "text/plain": [
       "                         Revenue\n",
       "date                            \n",
       "2019-09-02               31416.0\n",
       "2019-09-03               29063.0\n",
       "2019-09-04               31006.0\n",
       "2019-09-05               31440.0\n",
       "2019-09-06               32448.0\n",
       "Total rev for the week  155373.0"
      ]
     },
     "execution_count": 23,
     "metadata": {},
     "output_type": "execute_result"
    }
   ],
   "source": [
    "result.loc['Total rev for the week']= result.sum(numeric_only=True, axis=0)\n",
    "result"
   ]
  },
  {
   "cell_type": "markdown",
   "metadata": {},
   "source": [
    "### Revenue per section"
   ]
  },
  {
   "cell_type": "code",
   "execution_count": 30,
   "metadata": {},
   "outputs": [],
   "source": [
    "# # create subdataframes for the different sections and calculate revenues \n",
    "# df_fruits = df[df['location']=='fruit']\n",
    "# df_spices = df[df['location']=='spices']\n",
    "# df_dairy = df[df['location']=='dairy']\n",
    "# df_drinks = df[df['location']=='drinks']"
   ]
  },
  {
   "cell_type": "code",
   "execution_count": 47,
   "metadata": {},
   "outputs": [],
   "source": [
    "# df_section = df_fruits\n",
    "\n",
    "# section_rev_dict = {\n",
    "#         'Cust': [],\n",
    "#         'Rev': []}\n",
    "\n",
    "# for cust in df_section['customer_id']:\n",
    "#     df_sub = df_section[df_section['customer_id']== cust]\n",
    "    \n",
    "#     # resample with 1 min to get the whole duration of a customer\n",
    "#     df_sub_resampled = df_sub.resample(rule='1MIN').ffill()\n",
    "\n",
    "#     revenue = df_sub_resampled['revenue'].sum()\n",
    "\n",
    "#     section_rev_dict[\"Cust\"].append(cust)\n",
    "#     section_rev_dict[\"Rev\"].append(revenue)\n",
    "\n",
    "# section_rev_df = pd.DataFrame(section_rev_dict, columns = ['Cust', 'Rev'])\n",
    "# section_rev_df['date'] = section_rev_df['Cust'].str[0:10]\n",
    "\n",
    "# rev_fruits_df = section_rev_df.groupby('date')[['Rev']].sum()"
   ]
  },
  {
   "cell_type": "code",
   "execution_count": 43,
   "metadata": {},
   "outputs": [],
   "source": [
    "# merge1 = pd.merge(rev_fruits_df, rev_spices_df, left_index=True, right_index=True)\n",
    "# merge2 = pd.merge(rev_dairy_df, rev_drinks_df, left_index=True, right_index=True)\n",
    "# merge3 = pd.merge(merge1, merge2, left_index=True, right_index=True)\n",
    "# merge3.columns = ['fruits', 'spices', 'dairy', 'drinks'] \n",
    "# merge3.loc['Section_Total']= merge3.sum(numeric_only=True, axis=0)\n",
    "# merge3.loc[:,'Day_Total'] = merge3.sum(numeric_only=True, axis=1)"
   ]
  },
  {
   "cell_type": "code",
   "execution_count": null,
   "metadata": {},
   "outputs": [],
   "source": []
  }
 ],
 "metadata": {
  "kernelspec": {
   "display_name": "Python 3",
   "language": "python",
   "name": "python3"
  },
  "language_info": {
   "codemirror_mode": {
    "name": "ipython",
    "version": 3
   },
   "file_extension": ".py",
   "mimetype": "text/x-python",
   "name": "python",
   "nbconvert_exporter": "python",
   "pygments_lexer": "ipython3",
   "version": "3.8.5"
  }
 },
 "nbformat": 4,
 "nbformat_minor": 4
}
