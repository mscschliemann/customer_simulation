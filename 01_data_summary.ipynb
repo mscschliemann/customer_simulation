{
 "cells": [
  {
   "cell_type": "markdown",
   "metadata": {},
   "source": [
    "## Data summary "
   ]
  },
  {
   "cell_type": "code",
   "execution_count": 22,
   "metadata": {},
   "outputs": [],
   "source": [
    "import pandas as pd\n",
    "from matplotlib import pyplot as plt\n",
    "import seaborn as sns"
   ]
  },
  {
   "cell_type": "code",
   "execution_count": 23,
   "metadata": {},
   "outputs": [
    {
     "data": {
      "text/html": [
       "<div>\n",
       "<style scoped>\n",
       "    .dataframe tbody tr th:only-of-type {\n",
       "        vertical-align: middle;\n",
       "    }\n",
       "\n",
       "    .dataframe tbody tr th {\n",
       "        vertical-align: top;\n",
       "    }\n",
       "\n",
       "    .dataframe thead th {\n",
       "        text-align: right;\n",
       "    }\n",
       "</style>\n",
       "<table border=\"1\" class=\"dataframe\">\n",
       "  <thead>\n",
       "    <tr style=\"text-align: right;\">\n",
       "      <th></th>\n",
       "      <th>timestamp</th>\n",
       "      <th>location</th>\n",
       "      <th>customer_id</th>\n",
       "      <th>date</th>\n",
       "    </tr>\n",
       "  </thead>\n",
       "  <tbody>\n",
       "    <tr>\n",
       "      <th>24928</th>\n",
       "      <td>2019-09-06 21:53:00</td>\n",
       "      <td>checkout</td>\n",
       "      <td>2019-09-06_1503</td>\n",
       "      <td>2019-09-06</td>\n",
       "    </tr>\n",
       "    <tr>\n",
       "      <th>24929</th>\n",
       "      <td>2019-09-06 21:53:00</td>\n",
       "      <td>checkout</td>\n",
       "      <td>2019-09-06_1505</td>\n",
       "      <td>2019-09-06</td>\n",
       "    </tr>\n",
       "    <tr>\n",
       "      <th>24930</th>\n",
       "      <td>2019-09-06 21:53:00</td>\n",
       "      <td>checkout</td>\n",
       "      <td>2019-09-06_1506</td>\n",
       "      <td>2019-09-06</td>\n",
       "    </tr>\n",
       "    <tr>\n",
       "      <th>24931</th>\n",
       "      <td>2019-09-06 21:53:00</td>\n",
       "      <td>checkout</td>\n",
       "      <td>2019-09-06_1509</td>\n",
       "      <td>2019-09-06</td>\n",
       "    </tr>\n",
       "    <tr>\n",
       "      <th>24932</th>\n",
       "      <td>2019-09-06 21:53:00</td>\n",
       "      <td>checkout</td>\n",
       "      <td>2019-09-06_1510</td>\n",
       "      <td>2019-09-06</td>\n",
       "    </tr>\n",
       "  </tbody>\n",
       "</table>\n",
       "</div>"
      ],
      "text/plain": [
       "                 timestamp  location      customer_id        date\n",
       "24928  2019-09-06 21:53:00  checkout  2019-09-06_1503  2019-09-06\n",
       "24929  2019-09-06 21:53:00  checkout  2019-09-06_1505  2019-09-06\n",
       "24930  2019-09-06 21:53:00  checkout  2019-09-06_1506  2019-09-06\n",
       "24931  2019-09-06 21:53:00  checkout  2019-09-06_1509  2019-09-06\n",
       "24932  2019-09-06 21:53:00  checkout  2019-09-06_1510  2019-09-06"
      ]
     },
     "execution_count": 23,
     "metadata": {},
     "output_type": "execute_result"
    }
   ],
   "source": [
    "# upload preprocessed data \n",
    "df = pd.read_csv('data/data_clean.csv', index_col=0, sep= ',', header=0)\n",
    "df['date'] = df.customer_id.str[0:10]\n",
    "df.tail()"
   ]
  },
  {
   "cell_type": "markdown",
   "metadata": {},
   "source": [
    "### total number of customers:"
   ]
  },
  {
   "cell_type": "code",
   "execution_count": 24,
   "metadata": {},
   "outputs": [
    {
     "data": {
      "text/plain": [
       "date\n",
       "2019-09-02    1447\n",
       "2019-09-03    1422\n",
       "2019-09-04    1531\n",
       "2019-09-05    1535\n",
       "2019-09-06    1510\n",
       "Name: customer_id, dtype: int64"
      ]
     },
     "execution_count": 24,
     "metadata": {},
     "output_type": "execute_result"
    }
   ],
   "source": [
    "# unique customers per week of day\n",
    "df.groupby('date')['customer_id'].nunique()"
   ]
  },
  {
   "cell_type": "markdown",
   "metadata": {},
   "source": [
    "### total number of customers in each section:"
   ]
  },
  {
   "cell_type": "code",
   "execution_count": 25,
   "metadata": {},
   "outputs": [
    {
     "data": {
      "text/html": [
       "<div>\n",
       "<style scoped>\n",
       "    .dataframe tbody tr th:only-of-type {\n",
       "        vertical-align: middle;\n",
       "    }\n",
       "\n",
       "    .dataframe tbody tr th {\n",
       "        vertical-align: top;\n",
       "    }\n",
       "\n",
       "    .dataframe thead tr th {\n",
       "        text-align: left;\n",
       "    }\n",
       "\n",
       "    .dataframe thead tr:last-of-type th {\n",
       "        text-align: right;\n",
       "    }\n",
       "</style>\n",
       "<table border=\"1\" class=\"dataframe\">\n",
       "  <thead>\n",
       "    <tr>\n",
       "      <th></th>\n",
       "      <th colspan=\"5\" halign=\"left\">customer_id</th>\n",
       "    </tr>\n",
       "    <tr>\n",
       "      <th>location</th>\n",
       "      <th>checkout</th>\n",
       "      <th>dairy</th>\n",
       "      <th>drinks</th>\n",
       "      <th>fruit</th>\n",
       "      <th>spices</th>\n",
       "    </tr>\n",
       "    <tr>\n",
       "      <th>date</th>\n",
       "      <th></th>\n",
       "      <th></th>\n",
       "      <th></th>\n",
       "      <th></th>\n",
       "      <th></th>\n",
       "    </tr>\n",
       "  </thead>\n",
       "  <tbody>\n",
       "    <tr>\n",
       "      <th>2019-09-02</th>\n",
       "      <td>1447</td>\n",
       "      <td>720</td>\n",
       "      <td>661</td>\n",
       "      <td>827</td>\n",
       "      <td>584</td>\n",
       "    </tr>\n",
       "    <tr>\n",
       "      <th>2019-09-03</th>\n",
       "      <td>1422</td>\n",
       "      <td>751</td>\n",
       "      <td>581</td>\n",
       "      <td>827</td>\n",
       "      <td>543</td>\n",
       "    </tr>\n",
       "    <tr>\n",
       "      <th>2019-09-04</th>\n",
       "      <td>1531</td>\n",
       "      <td>804</td>\n",
       "      <td>652</td>\n",
       "      <td>884</td>\n",
       "      <td>565</td>\n",
       "    </tr>\n",
       "    <tr>\n",
       "      <th>2019-09-05</th>\n",
       "      <td>1535</td>\n",
       "      <td>782</td>\n",
       "      <td>632</td>\n",
       "      <td>872</td>\n",
       "      <td>613</td>\n",
       "    </tr>\n",
       "    <tr>\n",
       "      <th>2019-09-06</th>\n",
       "      <td>1510</td>\n",
       "      <td>761</td>\n",
       "      <td>688</td>\n",
       "      <td>874</td>\n",
       "      <td>633</td>\n",
       "    </tr>\n",
       "  </tbody>\n",
       "</table>\n",
       "</div>"
      ],
      "text/plain": [
       "           customer_id                          \n",
       "location      checkout dairy drinks fruit spices\n",
       "date                                            \n",
       "2019-09-02        1447   720    661   827    584\n",
       "2019-09-03        1422   751    581   827    543\n",
       "2019-09-04        1531   804    652   884    565\n",
       "2019-09-05        1535   782    632   872    613\n",
       "2019-09-06        1510   761    688   874    633"
      ]
     },
     "execution_count": 25,
     "metadata": {},
     "output_type": "execute_result"
    }
   ],
   "source": [
    "# including several visits of one customer to a section\n",
    "df_group = df.groupby(['date','location'])[['customer_id']].nunique()\n",
    "df_group.unstack()"
   ]
  },
  {
   "cell_type": "code",
   "execution_count": 26,
   "metadata": {},
   "outputs": [
    {
     "data": {
      "text/html": [
       "<div>\n",
       "<style scoped>\n",
       "    .dataframe tbody tr th:only-of-type {\n",
       "        vertical-align: middle;\n",
       "    }\n",
       "\n",
       "    .dataframe tbody tr th {\n",
       "        vertical-align: top;\n",
       "    }\n",
       "\n",
       "    .dataframe thead tr th {\n",
       "        text-align: left;\n",
       "    }\n",
       "</style>\n",
       "<table border=\"1\" class=\"dataframe\">\n",
       "  <thead>\n",
       "    <tr>\n",
       "      <th></th>\n",
       "      <th>date</th>\n",
       "      <th colspan=\"5\" halign=\"left\">customer_id</th>\n",
       "    </tr>\n",
       "    <tr>\n",
       "      <th>location</th>\n",
       "      <th></th>\n",
       "      <th>checkout</th>\n",
       "      <th>dairy</th>\n",
       "      <th>drinks</th>\n",
       "      <th>fruit</th>\n",
       "      <th>spices</th>\n",
       "    </tr>\n",
       "  </thead>\n",
       "  <tbody>\n",
       "    <tr>\n",
       "      <th>0</th>\n",
       "      <td>2019-09-02</td>\n",
       "      <td>1447</td>\n",
       "      <td>720</td>\n",
       "      <td>661</td>\n",
       "      <td>827</td>\n",
       "      <td>584</td>\n",
       "    </tr>\n",
       "    <tr>\n",
       "      <th>1</th>\n",
       "      <td>2019-09-03</td>\n",
       "      <td>1422</td>\n",
       "      <td>751</td>\n",
       "      <td>581</td>\n",
       "      <td>827</td>\n",
       "      <td>543</td>\n",
       "    </tr>\n",
       "    <tr>\n",
       "      <th>2</th>\n",
       "      <td>2019-09-04</td>\n",
       "      <td>1531</td>\n",
       "      <td>804</td>\n",
       "      <td>652</td>\n",
       "      <td>884</td>\n",
       "      <td>565</td>\n",
       "    </tr>\n",
       "    <tr>\n",
       "      <th>3</th>\n",
       "      <td>2019-09-05</td>\n",
       "      <td>1535</td>\n",
       "      <td>782</td>\n",
       "      <td>632</td>\n",
       "      <td>872</td>\n",
       "      <td>613</td>\n",
       "    </tr>\n",
       "    <tr>\n",
       "      <th>4</th>\n",
       "      <td>2019-09-06</td>\n",
       "      <td>1510</td>\n",
       "      <td>761</td>\n",
       "      <td>688</td>\n",
       "      <td>874</td>\n",
       "      <td>633</td>\n",
       "    </tr>\n",
       "  </tbody>\n",
       "</table>\n",
       "</div>"
      ],
      "text/plain": [
       "                date customer_id                          \n",
       "location                checkout dairy drinks fruit spices\n",
       "0         2019-09-02        1447   720    661   827    584\n",
       "1         2019-09-03        1422   751    581   827    543\n",
       "2         2019-09-04        1531   804    652   884    565\n",
       "3         2019-09-05        1535   782    632   872    613\n",
       "4         2019-09-06        1510   761    688   874    633"
      ]
     },
     "execution_count": 26,
     "metadata": {},
     "output_type": "execute_result"
    }
   ],
   "source": [
    "df_group.unstack().reset_index()"
   ]
  },
  {
   "cell_type": "code",
   "execution_count": 27,
   "metadata": {},
   "outputs": [
    {
     "data": {
      "text/plain": [
       "location\n",
       "checkout    7445\n",
       "dairy       3818\n",
       "drinks      3214\n",
       "fruit       4284\n",
       "spices      2938\n",
       "Name: customer_id, dtype: int64"
      ]
     },
     "execution_count": 27,
     "metadata": {},
     "output_type": "execute_result"
    }
   ],
   "source": [
    "# aggregate:\n",
    "s= df.groupby('location')['customer_id'].nunique()\n",
    "s"
   ]
  },
  {
   "cell_type": "code",
   "execution_count": 28,
   "metadata": {},
   "outputs": [],
   "source": [
    "# remove checkout\n",
    "s = s.iloc[1:]\n",
    "# calculate average\n",
    "s = s/5"
   ]
  },
  {
   "cell_type": "code",
   "execution_count": 39,
   "metadata": {
    "scrolled": true
   },
   "outputs": [
    {
     "data": {
      "image/png": "[encoded data removed]",
      "text/plain": [
       "<Figure size 432x288 with 1 Axes>"
      ]
     },
     "metadata": {},
     "output_type": "display_data"
    }
   ],
   "source": [
    "# Create an array with the colors you want to use\n",
    "sns.set_style(\"white\")\n",
    "\n",
    "mycolors = [\"darkgrey\", \"blue\", \"darkorange\", \"green\"]# Set your custom color palette\n",
    "sns.set_palette(sns.color_palette(mycolors))\n",
    "\n",
    "\n",
    "fig1 = unique_cus_count_by_loc_plot=sns.barplot(y=[1,2,3,4], x=s, palette=mycolors, orient='h') \n",
    "plt.title('Average customer count per day in supermarket sections')\n",
    "plt.xlabel(\"Customer count\", fontsize=13)\n",
    "plt.ylabel('Section', fontsize=13)\n",
    "\n",
    "yticks_pos = ([0, 1, 2, 3])\n",
    "labels = ['dairy', 'drinks', 'fruits', 'spices']\n",
    "\n",
    "plt.yticks(yticks_pos, labels, fontweight='normal',rotation=45, fontsize = 12)\n",
    "\n",
    "\n",
    "fig1.figure.savefig('plots/avg_cust_count_per_section.png', dpi=300)\n"
   ]
  },
  {
   "cell_type": "code",
   "execution_count": null,
   "metadata": {},
   "outputs": [],
   "source": []
  }
 ],
 "metadata": {
  "kernelspec": {
   "display_name": "Python 3",
   "language": "python",
   "name": "python3"
  },
  "language_info": {
   "codemirror_mode": {
    "name": "ipython",
    "version": 3
   },
   "file_extension": ".py",
   "mimetype": "text/x-python",
   "name": "python",
   "nbconvert_exporter": "python",
   "pygments_lexer": "ipython3",
   "version": "3.8.5"
  }
 },
 "nbformat": 4,
 "nbformat_minor": 4
}
