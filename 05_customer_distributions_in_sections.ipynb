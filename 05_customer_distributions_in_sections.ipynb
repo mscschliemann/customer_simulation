{
 "cells": [
  {
   "cell_type": "markdown",
   "metadata": {},
   "source": [
    "### Distribution of customers of their first visited section versus following sections"
   ]
  },
  {
   "cell_type": "code",
   "execution_count": 1,
   "metadata": {},
   "outputs": [],
   "source": [
    "%load_ext pycodestyle_magic"
   ]
  },
  {
   "cell_type": "code",
   "execution_count": 2,
   "metadata": {},
   "outputs": [],
   "source": [
    "import time\n",
    "import pandas as pd\n",
    "import matplotlib.pyplot as plt\n",
    "import seaborn as sns"
   ]
  },
  {
   "cell_type": "code",
   "execution_count": 41,
   "metadata": {},
   "outputs": [
    {
     "data": {
      "text/html": [
       "<div>\n",
       "<style scoped>\n",
       "    .dataframe tbody tr th:only-of-type {\n",
       "        vertical-align: middle;\n",
       "    }\n",
       "\n",
       "    .dataframe tbody tr th {\n",
       "        vertical-align: top;\n",
       "    }\n",
       "\n",
       "    .dataframe thead th {\n",
       "        text-align: right;\n",
       "    }\n",
       "</style>\n",
       "<table border=\"1\" class=\"dataframe\">\n",
       "  <thead>\n",
       "    <tr style=\"text-align: right;\">\n",
       "      <th></th>\n",
       "      <th>timestamp</th>\n",
       "      <th>location</th>\n",
       "      <th>customer_id</th>\n",
       "      <th>date</th>\n",
       "    </tr>\n",
       "  </thead>\n",
       "  <tbody>\n",
       "    <tr>\n",
       "      <th>0</th>\n",
       "      <td>2019-09-02 07:03:00</td>\n",
       "      <td>dairy</td>\n",
       "      <td>2019-09-02_1</td>\n",
       "      <td>2019-09-02</td>\n",
       "    </tr>\n",
       "    <tr>\n",
       "      <th>1</th>\n",
       "      <td>2019-09-02 07:03:00</td>\n",
       "      <td>dairy</td>\n",
       "      <td>2019-09-02_2</td>\n",
       "      <td>2019-09-02</td>\n",
       "    </tr>\n",
       "    <tr>\n",
       "      <th>2</th>\n",
       "      <td>2019-09-02 07:04:00</td>\n",
       "      <td>dairy</td>\n",
       "      <td>2019-09-02_3</td>\n",
       "      <td>2019-09-02</td>\n",
       "    </tr>\n",
       "    <tr>\n",
       "      <th>3</th>\n",
       "      <td>2019-09-02 07:04:00</td>\n",
       "      <td>dairy</td>\n",
       "      <td>2019-09-02_4</td>\n",
       "      <td>2019-09-02</td>\n",
       "    </tr>\n",
       "    <tr>\n",
       "      <th>4</th>\n",
       "      <td>2019-09-02 07:04:00</td>\n",
       "      <td>spices</td>\n",
       "      <td>2019-09-02_5</td>\n",
       "      <td>2019-09-02</td>\n",
       "    </tr>\n",
       "  </tbody>\n",
       "</table>\n",
       "</div>"
      ],
      "text/plain": [
       "            timestamp location   customer_id        date\n",
       "0 2019-09-02 07:03:00    dairy  2019-09-02_1  2019-09-02\n",
       "1 2019-09-02 07:03:00    dairy  2019-09-02_2  2019-09-02\n",
       "2 2019-09-02 07:04:00    dairy  2019-09-02_3  2019-09-02\n",
       "3 2019-09-02 07:04:00    dairy  2019-09-02_4  2019-09-02\n",
       "4 2019-09-02 07:04:00   spices  2019-09-02_5  2019-09-02"
      ]
     },
     "execution_count": 41,
     "metadata": {},
     "output_type": "execute_result"
    }
   ],
   "source": [
    "df = pd.read_csv('data/data_clean.csv', index_col=0, sep=',', header=0)\n",
    "\n",
    "# cast timestamp to datetime format\n",
    "df.timestamp = pd.to_datetime(df.timestamp)\n",
    "df.head()"
   ]
  },
  {
   "cell_type": "code",
   "execution_count": 4,
   "metadata": {},
   "outputs": [],
   "source": [
    "df['cust_reoccured'] = df.duplicated('customer_id')"
   ]
  },
  {
   "cell_type": "code",
   "execution_count": 5,
   "metadata": {},
   "outputs": [],
   "source": [
    "first_sections = df[df['cust_reoccured'] == False]\n",
    "follow_sections = df[df['cust_reoccured'] == True]\n",
    "# remove checkout rows\n",
    "follow_sections = follow_sections[follow_sections.location != 'checkout']"
   ]
  },
  {
   "cell_type": "code",
   "execution_count": 6,
   "metadata": {},
   "outputs": [],
   "source": [
    "first_grouped = first_sections.groupby('location')[['customer_id']].count()\n",
    "first_grouped.rename(columns={'customer_id':'customer count'}, inplace=True)\n",
    "following_grouped = follow_sections.groupby('location')[['customer_id']].count()\n",
    "following_grouped.rename(columns={'customer_id':'customer count'}, inplace=True)"
   ]
  },
  {
   "cell_type": "code",
   "execution_count": 7,
   "metadata": {
    "scrolled": true
   },
   "outputs": [
    {
     "data": {
      "text/html": [
       "<div>\n",
       "<style scoped>\n",
       "    .dataframe tbody tr th:only-of-type {\n",
       "        vertical-align: middle;\n",
       "    }\n",
       "\n",
       "    .dataframe tbody tr th {\n",
       "        vertical-align: top;\n",
       "    }\n",
       "\n",
       "    .dataframe thead th {\n",
       "        text-align: right;\n",
       "    }\n",
       "</style>\n",
       "<table border=\"1\" class=\"dataframe\">\n",
       "  <thead>\n",
       "    <tr style=\"text-align: right;\">\n",
       "      <th></th>\n",
       "      <th>customer count</th>\n",
       "      <th>share</th>\n",
       "    </tr>\n",
       "    <tr>\n",
       "      <th>location</th>\n",
       "      <th></th>\n",
       "      <th></th>\n",
       "    </tr>\n",
       "  </thead>\n",
       "  <tbody>\n",
       "    <tr>\n",
       "      <th>dairy</th>\n",
       "      <td>2141</td>\n",
       "      <td>0.287576</td>\n",
       "    </tr>\n",
       "    <tr>\n",
       "      <th>drinks</th>\n",
       "      <td>1143</td>\n",
       "      <td>0.153526</td>\n",
       "    </tr>\n",
       "    <tr>\n",
       "      <th>fruit</th>\n",
       "      <td>2810</td>\n",
       "      <td>0.377435</td>\n",
       "    </tr>\n",
       "    <tr>\n",
       "      <th>spices</th>\n",
       "      <td>1351</td>\n",
       "      <td>0.181464</td>\n",
       "    </tr>\n",
       "  </tbody>\n",
       "</table>\n",
       "</div>"
      ],
      "text/plain": [
       "          customer count     share\n",
       "location                          \n",
       "dairy               2141  0.287576\n",
       "drinks              1143  0.153526\n",
       "fruit               2810  0.377435\n",
       "spices              1351  0.181464"
      ]
     },
     "execution_count": 7,
     "metadata": {},
     "output_type": "execute_result"
    }
   ],
   "source": [
    "# Percentual shares of customers in first sections\n",
    "first_grouped['share'] = first_grouped['customer count']/first_grouped['customer count'].sum()\n",
    "first_grouped"
   ]
  },
  {
   "cell_type": "code",
   "execution_count": 8,
   "metadata": {},
   "outputs": [
    {
     "data": {
      "text/html": [
       "<div>\n",
       "<style scoped>\n",
       "    .dataframe tbody tr th:only-of-type {\n",
       "        vertical-align: middle;\n",
       "    }\n",
       "\n",
       "    .dataframe tbody tr th {\n",
       "        vertical-align: top;\n",
       "    }\n",
       "\n",
       "    .dataframe thead th {\n",
       "        text-align: right;\n",
       "    }\n",
       "</style>\n",
       "<table border=\"1\" class=\"dataframe\">\n",
       "  <thead>\n",
       "    <tr style=\"text-align: right;\">\n",
       "      <th></th>\n",
       "      <th>customer count</th>\n",
       "      <th>share</th>\n",
       "    </tr>\n",
       "    <tr>\n",
       "      <th>location</th>\n",
       "      <th></th>\n",
       "      <th></th>\n",
       "    </tr>\n",
       "  </thead>\n",
       "  <tbody>\n",
       "    <tr>\n",
       "      <th>dairy</th>\n",
       "      <td>2538</td>\n",
       "      <td>0.253420</td>\n",
       "    </tr>\n",
       "    <tr>\n",
       "      <th>drinks</th>\n",
       "      <td>2762</td>\n",
       "      <td>0.275786</td>\n",
       "    </tr>\n",
       "    <tr>\n",
       "      <th>fruit</th>\n",
       "      <td>2312</td>\n",
       "      <td>0.230854</td>\n",
       "    </tr>\n",
       "    <tr>\n",
       "      <th>spices</th>\n",
       "      <td>2403</td>\n",
       "      <td>0.239940</td>\n",
       "    </tr>\n",
       "  </tbody>\n",
       "</table>\n",
       "</div>"
      ],
      "text/plain": [
       "          customer count     share\n",
       "location                          \n",
       "dairy               2538  0.253420\n",
       "drinks              2762  0.275786\n",
       "fruit               2312  0.230854\n",
       "spices              2403  0.239940"
      ]
     },
     "execution_count": 8,
     "metadata": {},
     "output_type": "execute_result"
    }
   ],
   "source": [
    "following_grouped['share'] = following_grouped['customer count']/following_grouped['customer count'].sum()\n",
    "following_grouped"
   ]
  },
  {
   "cell_type": "code",
   "execution_count": 33,
   "metadata": {},
   "outputs": [],
   "source": [
    "# Create an array with the colors you want to use\n",
    "mycolors = [\"darkgrey\", \"blue\", \"darkorange\", \"green\"]# Set your custom color palette\n",
    "sns.set_palette(sns.color_palette(colors))"
   ]
  },
  {
   "cell_type": "code",
   "execution_count": 34,
   "metadata": {},
   "outputs": [
    {
     "data": {
      "image/png": "[encoded data removed]",
      "text/plain": [
       "<Figure size 1008x360 with 2 Axes>"
      ]
     },
     "metadata": {},
     "output_type": "display_data"
    }
   ],
   "source": [
    "fig, ax = plt.subplots(1,2, figsize=(14, 5))\n",
    "fig1 = sns.barplot(x ='location', y='customer count', \n",
    "                   data=first_grouped.reset_index(), palette = mycolors ,\n",
    "                   ax=ax[0]).set_title('First visited sections', fontsize=15)\n",
    "fig2 = sns.barplot(x ='location', y='customer count', \n",
    "                   data=following_grouped.reset_index(), palette = mycolors,\n",
    "                   ax=ax[1]).set_title('Following visited sections', fontsize=15)"
   ]
  },
  {
   "cell_type": "code",
   "execution_count": 36,
   "metadata": {},
   "outputs": [
    {
     "data": {
      "image/png": "[encoded data removed]",
      "text/plain": [
       "<Figure size 432x288 with 1 Axes>"
      ]
     },
     "metadata": {},
     "output_type": "display_data"
    }
   ],
   "source": [
    "# export images\n",
    "#%matplotlib agg\n",
    "sns.set_style(\"white\")\n",
    "mycolors = [\"darkgrey\", \"blue\", \"darkorange\", \"green\"]# Set your custom color palette\n",
    "sns.set_palette(sns.color_palette(colors))\n",
    "fig1 = sns.barplot(x ='location', y='customer count', palette = mycolors,\n",
    "                   data=first_grouped.reset_index()).set_title('First visited sections', fontsize=15)\n",
    "fig1.figure.savefig('plots/first_visited_section_shares.png', dpi=300)\n",
    "\n"
   ]
  },
  {
   "cell_type": "code",
   "execution_count": 37,
   "metadata": {},
   "outputs": [
    {
     "data": {
      "image/png": "[encoded data removed]",
      "text/plain": [
       "<Figure size 432x288 with 1 Axes>"
      ]
     },
     "metadata": {},
     "output_type": "display_data"
    }
   ],
   "source": [
    "fig2 = sns.barplot(x ='location', y='customer count', palette = mycolors,\n",
    "                   data=following_grouped.reset_index()).set_title('Following visited sections', fontsize=15)\n",
    "fig2.figure.savefig('plots/follow_visited_section_shares.png', dpi=400)"
   ]
  },
  {
   "cell_type": "code",
   "execution_count": 84,
   "metadata": {},
   "outputs": [
    {
     "data": {
      "text/html": [
       "<div>\n",
       "<style scoped>\n",
       "    .dataframe tbody tr th:only-of-type {\n",
       "        vertical-align: middle;\n",
       "    }\n",
       "\n",
       "    .dataframe tbody tr th {\n",
       "        vertical-align: top;\n",
       "    }\n",
       "\n",
       "    .dataframe thead th {\n",
       "        text-align: right;\n",
       "    }\n",
       "</style>\n",
       "<table border=\"1\" class=\"dataframe\">\n",
       "  <thead>\n",
       "    <tr style=\"text-align: right;\">\n",
       "      <th></th>\n",
       "      <th>timestamp</th>\n",
       "      <th>customer_id</th>\n",
       "    </tr>\n",
       "  </thead>\n",
       "  <tbody>\n",
       "    <tr>\n",
       "      <th>25</th>\n",
       "      <td>2019-09-04 19:30:00</td>\n",
       "      <td>96</td>\n",
       "    </tr>\n",
       "    <tr>\n",
       "      <th>26</th>\n",
       "      <td>2019-09-04 20:00:00</td>\n",
       "      <td>44</td>\n",
       "    </tr>\n",
       "    <tr>\n",
       "      <th>27</th>\n",
       "      <td>2019-09-04 20:30:00</td>\n",
       "      <td>41</td>\n",
       "    </tr>\n",
       "    <tr>\n",
       "      <th>28</th>\n",
       "      <td>2019-09-04 21:00:00</td>\n",
       "      <td>30</td>\n",
       "    </tr>\n",
       "    <tr>\n",
       "      <th>29</th>\n",
       "      <td>2019-09-04 21:30:00</td>\n",
       "      <td>36</td>\n",
       "    </tr>\n",
       "  </tbody>\n",
       "</table>\n",
       "</div>"
      ],
      "text/plain": [
       "             timestamp  customer_id\n",
       "25 2019-09-04 19:30:00           96\n",
       "26 2019-09-04 20:00:00           44\n",
       "27 2019-09-04 20:30:00           41\n",
       "28 2019-09-04 21:00:00           30\n",
       "29 2019-09-04 21:30:00           36"
      ]
     },
     "execution_count": 84,
     "metadata": {},
     "output_type": "execute_result"
    }
   ],
   "source": [
    "### Distribution of customers at checkout during one day\n",
    "df_checkout_mon = df[(df['location'] == 'checkout') & (df['date'] == '2019-09-04')]\n",
    "df_checkout_mon_plot = df_checkout_mon.groupby('timestamp')[['customer_id']].count().resample(rule='30MIN').sum().reset_index()\n",
    "df_checkout_mon_plot.tail()"
   ]
  },
  {
   "cell_type": "code",
   "execution_count": 85,
   "metadata": {},
   "outputs": [
    {
     "data": {
      "image/png": "[encoded data removed]",
      "text/plain": [
       "<Figure size 936x504 with 1 Axes>"
      ]
     },
     "metadata": {},
     "output_type": "display_data"
    }
   ],
   "source": [
    "sns.set_style(\"whitegrid\")\n",
    "plt.rcParams['figure.figsize'] = (13, 7)\n",
    "\n",
    "fig_checkout = sns.barplot(x ='timestamp', y='customer_id', color = 'darkred',\n",
    "                   data=df_checkout_mon_plot).set_title('Following visited sections', fontsize=15)\n",
    "# Custom X axis\n",
    "xtick_pos = list(range(0,30))\n",
    "labels = ['7:00', '7:30', '8:00', '8:30', '9:00', '9:30', '10:00', '10:30',\n",
    "         '11:00', '11:30', '12:00', '12:30', '13:00', '13:30', '14:00', '14:30',\n",
    "         '15:00', '15:30', '16:00', '16:30', '17:00', '17:30', '18:00', '18:30',\n",
    "         '19:00', '19:30', '20:00', '20:30', '21:00', '21:30']\n",
    "\n",
    "plt.xticks(xtick_pos, labels, fontweight='normal',rotation=90)\n",
    "plt.xlabel(\"Time of day\", fontsize=13)\n",
    "plt.ylabel('Customer count', fontsize=13)\n",
    "\n",
    "plt.xlim(xmin=-0.5, xmax=29.5)\n",
    "plt.title('Distribution of customer count at the checkout', fontsize=15)\n",
    "plt.savefig(f'plots/dist_checkout_wed.png', dpi=300)\n"
   ]
  }
 ],
 "metadata": {
  "kernelspec": {
   "display_name": "Python 3",
   "language": "python",
   "name": "python3"
  },
  "language_info": {
   "codemirror_mode": {
    "name": "ipython",
    "version": 3
   },
   "file_extension": ".py",
   "mimetype": "text/x-python",
   "name": "python",
   "nbconvert_exporter": "python",
   "pygments_lexer": "ipython3",
   "version": "3.8.5"
  }
 },
 "nbformat": 4,
 "nbformat_minor": 4
}
