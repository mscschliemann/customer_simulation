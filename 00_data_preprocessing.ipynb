{
 "cells": [
  {
   "cell_type": "code",
   "execution_count": 17,
   "metadata": {},
   "outputs": [],
   "source": [
    "import pandas as pd\n",
    "from matplotlib import pyplot as plt\n",
    "import numpy as np\n",
    "import glob"
   ]
  },
  {
   "cell_type": "code",
   "execution_count": 18,
   "metadata": {},
   "outputs": [
    {
     "data": {
      "text/html": [
       "<div>\n",
       "<style scoped>\n",
       "    .dataframe tbody tr th:only-of-type {\n",
       "        vertical-align: middle;\n",
       "    }\n",
       "\n",
       "    .dataframe tbody tr th {\n",
       "        vertical-align: top;\n",
       "    }\n",
       "\n",
       "    .dataframe thead th {\n",
       "        text-align: right;\n",
       "    }\n",
       "</style>\n",
       "<table border=\"1\" class=\"dataframe\">\n",
       "  <thead>\n",
       "    <tr style=\"text-align: right;\">\n",
       "      <th></th>\n",
       "      <th>timestamp</th>\n",
       "      <th>customer_no</th>\n",
       "      <th>location</th>\n",
       "    </tr>\n",
       "  </thead>\n",
       "  <tbody>\n",
       "    <tr>\n",
       "      <th>0</th>\n",
       "      <td>2019-09-02 07:03:00</td>\n",
       "      <td>1</td>\n",
       "      <td>dairy</td>\n",
       "    </tr>\n",
       "    <tr>\n",
       "      <th>1</th>\n",
       "      <td>2019-09-02 07:03:00</td>\n",
       "      <td>2</td>\n",
       "      <td>dairy</td>\n",
       "    </tr>\n",
       "    <tr>\n",
       "      <th>2</th>\n",
       "      <td>2019-09-02 07:04:00</td>\n",
       "      <td>3</td>\n",
       "      <td>dairy</td>\n",
       "    </tr>\n",
       "    <tr>\n",
       "      <th>3</th>\n",
       "      <td>2019-09-02 07:04:00</td>\n",
       "      <td>4</td>\n",
       "      <td>dairy</td>\n",
       "    </tr>\n",
       "    <tr>\n",
       "      <th>4</th>\n",
       "      <td>2019-09-02 07:04:00</td>\n",
       "      <td>5</td>\n",
       "      <td>spices</td>\n",
       "    </tr>\n",
       "  </tbody>\n",
       "</table>\n",
       "</div>"
      ],
      "text/plain": [
       "             timestamp  customer_no location\n",
       "0  2019-09-02 07:03:00            1    dairy\n",
       "1  2019-09-02 07:03:00            2    dairy\n",
       "2  2019-09-02 07:04:00            3    dairy\n",
       "3  2019-09-02 07:04:00            4    dairy\n",
       "4  2019-09-02 07:04:00            5   spices"
      ]
     },
     "execution_count": 18,
     "metadata": {},
     "output_type": "execute_result"
    }
   ],
   "source": [
    "#all_files = glob.glob('data/*.csv')\n",
    "li = []\n",
    "\n",
    "filenames = ['data/1_monday.csv', 'data/2_tuesday.csv', 'data/3_wednesday.csv', 'data/4_thursday.csv', 'data/5_friday.csv' ]\n",
    "\n",
    "for filename in filenames:\n",
    "    df = pd.read_csv(filename, index_col=None, sep= ';', header=0)\n",
    "    li.append(df)\n",
    "\n",
    "df = pd.concat(li, axis=0, ignore_index=True)\n",
    "df.head()\n",
    "\n",
    "# one liner, but no additional argument to pd.read_csv possible:\n",
    "#df = pd.concat(map(pd.read_csv, glob.glob('data/*.csv')))"
   ]
  },
  {
   "cell_type": "code",
   "execution_count": 19,
   "metadata": {},
   "outputs": [
    {
     "data": {
      "text/html": [
       "<div>\n",
       "<style scoped>\n",
       "    .dataframe tbody tr th:only-of-type {\n",
       "        vertical-align: middle;\n",
       "    }\n",
       "\n",
       "    .dataframe tbody tr th {\n",
       "        vertical-align: top;\n",
       "    }\n",
       "\n",
       "    .dataframe thead th {\n",
       "        text-align: right;\n",
       "    }\n",
       "</style>\n",
       "<table border=\"1\" class=\"dataframe\">\n",
       "  <thead>\n",
       "    <tr style=\"text-align: right;\">\n",
       "      <th></th>\n",
       "      <th>timestamp</th>\n",
       "      <th>location</th>\n",
       "      <th>customer_id</th>\n",
       "    </tr>\n",
       "  </thead>\n",
       "  <tbody>\n",
       "    <tr>\n",
       "      <th>0</th>\n",
       "      <td>2019-09-02 07:03:00</td>\n",
       "      <td>dairy</td>\n",
       "      <td>2019-09-02_1</td>\n",
       "    </tr>\n",
       "    <tr>\n",
       "      <th>1</th>\n",
       "      <td>2019-09-02 07:03:00</td>\n",
       "      <td>dairy</td>\n",
       "      <td>2019-09-02_2</td>\n",
       "    </tr>\n",
       "    <tr>\n",
       "      <th>2</th>\n",
       "      <td>2019-09-02 07:04:00</td>\n",
       "      <td>dairy</td>\n",
       "      <td>2019-09-02_3</td>\n",
       "    </tr>\n",
       "    <tr>\n",
       "      <th>3</th>\n",
       "      <td>2019-09-02 07:04:00</td>\n",
       "      <td>dairy</td>\n",
       "      <td>2019-09-02_4</td>\n",
       "    </tr>\n",
       "    <tr>\n",
       "      <th>4</th>\n",
       "      <td>2019-09-02 07:04:00</td>\n",
       "      <td>spices</td>\n",
       "      <td>2019-09-02_5</td>\n",
       "    </tr>\n",
       "  </tbody>\n",
       "</table>\n",
       "</div>"
      ],
      "text/plain": [
       "             timestamp location   customer_id\n",
       "0  2019-09-02 07:03:00    dairy  2019-09-02_1\n",
       "1  2019-09-02 07:03:00    dairy  2019-09-02_2\n",
       "2  2019-09-02 07:04:00    dairy  2019-09-02_3\n",
       "3  2019-09-02 07:04:00    dairy  2019-09-02_4\n",
       "4  2019-09-02 07:04:00   spices  2019-09-02_5"
      ]
     },
     "execution_count": 19,
     "metadata": {},
     "output_type": "execute_result"
    }
   ],
   "source": [
    "# create unique identifier for each customer:\n",
    "for i in df.index:\n",
    "    df.at[i, 'customer_id'] = (df.at[i, 'timestamp'])[0:10]+ '_' + str(df.at[i, 'customer_no'])\n",
    "\n",
    "# drop customer_no \n",
    "df.drop(['customer_no'], axis=1, inplace=True)\n",
    "df.head()    "
   ]
  },
  {
   "cell_type": "markdown",
   "metadata": {},
   "source": [
    "### create checkout timestamp & location for the customers without recorded checkout:"
   ]
  },
  {
   "cell_type": "code",
   "execution_count": 20,
   "metadata": {},
   "outputs": [
    {
     "data": {
      "text/plain": [
       "['2019-09-02_1430',\n",
       " '2019-09-02_1433',\n",
       " '2019-09-02_1437',\n",
       " '2019-09-02_1439',\n",
       " '2019-09-02_1440',\n",
       " '2019-09-02_1441',\n",
       " '2019-09-02_1443',\n",
       " '2019-09-02_1445',\n",
       " '2019-09-02_1446',\n",
       " '2019-09-02_1447',\n",
       " '2019-09-03_1411',\n",
       " '2019-09-03_1422',\n",
       " '2019-09-04_1520',\n",
       " '2019-09-04_1527',\n",
       " '2019-09-04_1528',\n",
       " '2019-09-04_1529',\n",
       " '2019-09-04_1530',\n",
       " '2019-09-05_1527',\n",
       " '2019-09-05_1532',\n",
       " '2019-09-05_1533',\n",
       " '2019-09-06_1494',\n",
       " '2019-09-06_1496',\n",
       " '2019-09-06_1500',\n",
       " '2019-09-06_1503',\n",
       " '2019-09-06_1505',\n",
       " '2019-09-06_1506',\n",
       " '2019-09-06_1509',\n",
       " '2019-09-06_1510']"
      ]
     },
     "execution_count": 20,
     "metadata": {},
     "output_type": "execute_result"
    }
   ],
   "source": [
    "cust_checkout_no_record = []\n",
    "\n",
    "for cust in df['customer_id']:\n",
    "    df_at = df[df['customer_id']==cust] \n",
    "\n",
    "    last_cust_occ = df_at.customer_id[-1:].values\n",
    "    last_loc_occ = df_at.location[-1:].values\n",
    "    #print(last_cust_occ, last_loc_occ)\n",
    "    \n",
    "    if last_loc_occ[0] != 'checkout':\n",
    "        cust_checkout_no_record.append(last_cust_occ[0])\n",
    "\n",
    "\n",
    "# remove duplicates:\n",
    "cust_checkout_no_record = list(dict.fromkeys(cust_checkout_no_record))\n",
    "cust_checkout_no_record"
   ]
  },
  {
   "cell_type": "code",
   "execution_count": 21,
   "metadata": {},
   "outputs": [],
   "source": [
    "lst_dict = []\n",
    "\n",
    "for cust_id in cust_checkout_no_record:\n",
    "    \n",
    "    # assuming that the remaining customers are checked out at 21:55\n",
    "    new_row_dict = {'timestamp':'2019-09-02 21:53:00', 'customer_id':cust_id, 'location':'checkout'}    \n",
    "    lst_dict.append(new_row_dict)\n",
    "\n",
    "#append rows to the dataframe\n",
    "df = df.append(lst_dict, ignore_index=True)"
   ]
  },
  {
   "cell_type": "code",
   "execution_count": 22,
   "metadata": {},
   "outputs": [
    {
     "data": {
      "text/html": [
       "<div>\n",
       "<style scoped>\n",
       "    .dataframe tbody tr th:only-of-type {\n",
       "        vertical-align: middle;\n",
       "    }\n",
       "\n",
       "    .dataframe tbody tr th {\n",
       "        vertical-align: top;\n",
       "    }\n",
       "\n",
       "    .dataframe thead th {\n",
       "        text-align: right;\n",
       "    }\n",
       "</style>\n",
       "<table border=\"1\" class=\"dataframe\">\n",
       "  <thead>\n",
       "    <tr style=\"text-align: right;\">\n",
       "      <th></th>\n",
       "      <th>timestamp</th>\n",
       "      <th>location</th>\n",
       "      <th>customer_id</th>\n",
       "    </tr>\n",
       "  </thead>\n",
       "  <tbody>\n",
       "    <tr>\n",
       "      <th>0</th>\n",
       "      <td>2019-09-02 07:03:00</td>\n",
       "      <td>dairy</td>\n",
       "      <td>2019-09-02_1</td>\n",
       "    </tr>\n",
       "    <tr>\n",
       "      <th>1</th>\n",
       "      <td>2019-09-02 07:03:00</td>\n",
       "      <td>dairy</td>\n",
       "      <td>2019-09-02_2</td>\n",
       "    </tr>\n",
       "    <tr>\n",
       "      <th>2</th>\n",
       "      <td>2019-09-02 07:04:00</td>\n",
       "      <td>dairy</td>\n",
       "      <td>2019-09-02_3</td>\n",
       "    </tr>\n",
       "    <tr>\n",
       "      <th>3</th>\n",
       "      <td>2019-09-02 07:04:00</td>\n",
       "      <td>dairy</td>\n",
       "      <td>2019-09-02_4</td>\n",
       "    </tr>\n",
       "    <tr>\n",
       "      <th>4</th>\n",
       "      <td>2019-09-02 07:04:00</td>\n",
       "      <td>spices</td>\n",
       "      <td>2019-09-02_5</td>\n",
       "    </tr>\n",
       "  </tbody>\n",
       "</table>\n",
       "</div>"
      ],
      "text/plain": [
       "             timestamp location   customer_id\n",
       "0  2019-09-02 07:03:00    dairy  2019-09-02_1\n",
       "1  2019-09-02 07:03:00    dairy  2019-09-02_2\n",
       "2  2019-09-02 07:04:00    dairy  2019-09-02_3\n",
       "3  2019-09-02 07:04:00    dairy  2019-09-02_4\n",
       "4  2019-09-02 07:04:00   spices  2019-09-02_5"
      ]
     },
     "execution_count": 22,
     "metadata": {},
     "output_type": "execute_result"
    }
   ],
   "source": [
    "df.head()"
   ]
  },
  {
   "cell_type": "code",
   "execution_count": 23,
   "metadata": {},
   "outputs": [
    {
     "data": {
      "text/html": [
       "<div>\n",
       "<style scoped>\n",
       "    .dataframe tbody tr th:only-of-type {\n",
       "        vertical-align: middle;\n",
       "    }\n",
       "\n",
       "    .dataframe tbody tr th {\n",
       "        vertical-align: top;\n",
       "    }\n",
       "\n",
       "    .dataframe thead th {\n",
       "        text-align: right;\n",
       "    }\n",
       "</style>\n",
       "<table border=\"1\" class=\"dataframe\">\n",
       "  <thead>\n",
       "    <tr style=\"text-align: right;\">\n",
       "      <th></th>\n",
       "      <th>timestamp</th>\n",
       "      <th>location</th>\n",
       "      <th>customer_id</th>\n",
       "    </tr>\n",
       "  </thead>\n",
       "  <tbody>\n",
       "    <tr>\n",
       "      <th>24900</th>\n",
       "      <td>2019-09-02 21:53:00</td>\n",
       "      <td>checkout</td>\n",
       "      <td>2019-09-06_1503</td>\n",
       "    </tr>\n",
       "    <tr>\n",
       "      <th>24901</th>\n",
       "      <td>2019-09-02 21:53:00</td>\n",
       "      <td>checkout</td>\n",
       "      <td>2019-09-06_1505</td>\n",
       "    </tr>\n",
       "    <tr>\n",
       "      <th>24902</th>\n",
       "      <td>2019-09-02 21:53:00</td>\n",
       "      <td>checkout</td>\n",
       "      <td>2019-09-06_1506</td>\n",
       "    </tr>\n",
       "    <tr>\n",
       "      <th>24903</th>\n",
       "      <td>2019-09-02 21:53:00</td>\n",
       "      <td>checkout</td>\n",
       "      <td>2019-09-06_1509</td>\n",
       "    </tr>\n",
       "    <tr>\n",
       "      <th>24904</th>\n",
       "      <td>2019-09-02 21:53:00</td>\n",
       "      <td>checkout</td>\n",
       "      <td>2019-09-06_1510</td>\n",
       "    </tr>\n",
       "  </tbody>\n",
       "</table>\n",
       "</div>"
      ],
      "text/plain": [
       "                 timestamp  location      customer_id\n",
       "24900  2019-09-02 21:53:00  checkout  2019-09-06_1503\n",
       "24901  2019-09-02 21:53:00  checkout  2019-09-06_1505\n",
       "24902  2019-09-02 21:53:00  checkout  2019-09-06_1506\n",
       "24903  2019-09-02 21:53:00  checkout  2019-09-06_1509\n",
       "24904  2019-09-02 21:53:00  checkout  2019-09-06_1510"
      ]
     },
     "execution_count": 23,
     "metadata": {},
     "output_type": "execute_result"
    }
   ],
   "source": [
    "df.tail()"
   ]
  },
  {
   "cell_type": "code",
   "execution_count": 24,
   "metadata": {},
   "outputs": [],
   "source": [
    "df.to_csv('data/data_clean.csv')"
   ]
  }
 ],
 "metadata": {
  "kernelspec": {
   "display_name": "Python 3",
   "language": "python",
   "name": "python3"
  },
  "language_info": {
   "codemirror_mode": {
    "name": "ipython",
    "version": 3
   },
   "file_extension": ".py",
   "mimetype": "text/x-python",
   "name": "python",
   "nbconvert_exporter": "python",
   "pygments_lexer": "ipython3",
   "version": "3.8.5"
  }
 },
 "nbformat": 4,
 "nbformat_minor": 4
}
