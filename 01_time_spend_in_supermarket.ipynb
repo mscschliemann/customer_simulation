{
 "cells": [
  {
   "cell_type": "code",
   "execution_count": 26,
   "metadata": {},
   "outputs": [],
   "source": [
    "import pandas as pd\n",
    "from matplotlib import pyplot as plt\n",
    "import numpy as np"
   ]
  },
  {
   "cell_type": "code",
   "execution_count": 27,
   "metadata": {
    "scrolled": true
   },
   "outputs": [],
   "source": [
    "df = pd.read_csv('data/data_clean.csv', index_col=0, sep= ',', header=0)\n",
    "\n",
    "# cast timestamp to datetime format\n",
    "df.timestamp = pd.to_datetime(df.timestamp)\n"
   ]
  },
  {
   "cell_type": "markdown",
   "metadata": {},
   "source": [
    "### time each customer spent in the market:"
   ]
  },
  {
   "cell_type": "code",
   "execution_count": 29,
   "metadata": {},
   "outputs": [],
   "source": [
    "minutes_spend_list = []\n",
    "\n",
    "# loop through the customer id columnn:\n",
    "for cust in df['customer_id'].unique():\n",
    "    df_at = df[df['customer_id']==cust] \n",
    "    \n",
    "    # get first and last timestamp for current customer_id\n",
    "    first_occ = df_at.timestamp[:1].values \n",
    "    last_occ = df_at.timestamp[-1:].values\n",
    "    #print(first_occ, last_occ)\n",
    "    \n",
    "    # calculate time diff\n",
    "    timediff = (last_occ - first_occ)/60000000000 # nanoseconds to minutes\n",
    "    \n",
    "    if timediff.tolist()[0] == 5775:\n",
    "        print('customer', cust ,'spend', timediff.tolist()[0], 'minute(s) in the supermarket') \n",
    "    minutes_spend_list.append(timediff.tolist()[0])\n"
   ]
  },
  {
   "cell_type": "code",
   "execution_count": 31,
   "metadata": {},
   "outputs": [
    {
     "name": "stdout",
     "output_type": "stream",
     "text": [
      "The average time customers spend in the supermarket is: \n",
      " 6.26 minutes \n",
      " The maximum time customers spend in the supermarket is: \n",
      " 52 minutes \n",
      " The minimum time customers spend in the supermarket is: \n",
      " 1 minute(s) \n",
      " The most commom time customers spend in the supermarket is: \n",
      " 1 minute(s)  \n",
      "\n"
     ]
    }
   ],
   "source": [
    "average = sum(minutes_spend_list) / len(minutes_spend_list)\n",
    "max_time = max(minutes_spend_list)\n",
    "min_time = min(minutes_spend_list)\n",
    "\n",
    "def most_common(lst):\n",
    "    return max(set(lst), key=lst.count)\n",
    "\n",
    "most_common_time = most_common(minutes_spend_list)\n",
    "\n",
    "print(\n",
    "    'The average time customers spend in the supermarket is: \\n', \n",
    "      round(average, 2), 'minutes \\n', \n",
    "    'The maximum time customers spend in the supermarket is: \\n',\n",
    "      round(max_time, 2), 'minutes \\n', \n",
    "    'The minimum time customers spend in the supermarket is: \\n',\n",
    "      round(min_time, 2), 'minute(s) \\n', \n",
    "    'The most commom time customers spend in the supermarket is: \\n',\n",
    "      round(most_common_time, 2), 'minute(s)  \\n', \n",
    "     )"
   ]
  },
  {
   "cell_type": "markdown",
   "metadata": {},
   "source": [
    "### In which sections did they spend the most time?"
   ]
  },
  {
   "cell_type": "code",
   "execution_count": null,
   "metadata": {},
   "outputs": [],
   "source": []
  }
 ],
 "metadata": {
  "kernelspec": {
   "display_name": "Python 3",
   "language": "python",
   "name": "python3"
  },
  "language_info": {
   "codemirror_mode": {
    "name": "ipython",
    "version": 3
   },
   "file_extension": ".py",
   "mimetype": "text/x-python",
   "name": "python",
   "nbconvert_exporter": "python",
   "pygments_lexer": "ipython3",
   "version": "3.8.5"
  }
 },
 "nbformat": 4,
 "nbformat_minor": 4
}
