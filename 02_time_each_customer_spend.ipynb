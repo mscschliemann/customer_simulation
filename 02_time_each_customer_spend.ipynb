{
 "cells": [
  {
   "cell_type": "code",
   "execution_count": 2,
   "metadata": {},
   "outputs": [],
   "source": [
    "import pandas as pd\n",
    "from matplotlib import pyplot as plt\n",
    "import numpy as np"
   ]
  },
  {
   "cell_type": "code",
   "execution_count": 3,
   "metadata": {},
   "outputs": [],
   "source": [
    "# upload one file (later all - customer no starts with 1 every day)\n",
    "df = pd.read_csv('./data/monday.csv', sep=';') # , index_col=0"
   ]
  },
  {
   "cell_type": "code",
   "execution_count": 4,
   "metadata": {},
   "outputs": [
    {
     "data": {
      "text/plain": [
       "[1430, 1433, 1437, 1439, 1440, 1441, 1443, 1445, 1446, 1447]"
      ]
     },
     "execution_count": 4,
     "metadata": {},
     "output_type": "execute_result"
    }
   ],
   "source": [
    "cust_checkout_no_record = []\n",
    "for i in range(1, (df['customer_no'].nunique())+1):\n",
    "    df_at = df[df['customer_no']==i] \n",
    "    # print(df_at)\n",
    "    \n",
    "    last_cust_occ = df_at.customer_no[-1:].values\n",
    "    last_loc_occ = df_at.location[-1:].values\n",
    "    # print(last_cust_occ, last_loc_occ)\n",
    "    \n",
    "    if last_loc_occ[0] != 'checkout':\n",
    "        cust_checkout_no_record.append(last_cust_occ[0])\n",
    "\n",
    "cust_checkout_no_record  "
   ]
  },
  {
   "cell_type": "code",
   "execution_count": 5,
   "metadata": {},
   "outputs": [
    {
     "data": {
      "text/html": [
       "<div>\n",
       "<style scoped>\n",
       "    .dataframe tbody tr th:only-of-type {\n",
       "        vertical-align: middle;\n",
       "    }\n",
       "\n",
       "    .dataframe tbody tr th {\n",
       "        vertical-align: top;\n",
       "    }\n",
       "\n",
       "    .dataframe thead th {\n",
       "        text-align: right;\n",
       "    }\n",
       "</style>\n",
       "<table border=\"1\" class=\"dataframe\">\n",
       "  <thead>\n",
       "    <tr style=\"text-align: right;\">\n",
       "      <th></th>\n",
       "      <th>timestamp</th>\n",
       "      <th>customer_no</th>\n",
       "      <th>location</th>\n",
       "    </tr>\n",
       "  </thead>\n",
       "  <tbody>\n",
       "    <tr>\n",
       "      <th>4879</th>\n",
       "      <td>2019-09-02 21:49:00</td>\n",
       "      <td>1442</td>\n",
       "      <td>checkout</td>\n",
       "    </tr>\n",
       "    <tr>\n",
       "      <th>4880</th>\n",
       "      <td>2019-09-02 21:49:00</td>\n",
       "      <td>1444</td>\n",
       "      <td>checkout</td>\n",
       "    </tr>\n",
       "    <tr>\n",
       "      <th>4881</th>\n",
       "      <td>2019-09-02 21:49:00</td>\n",
       "      <td>1445</td>\n",
       "      <td>dairy</td>\n",
       "    </tr>\n",
       "    <tr>\n",
       "      <th>4882</th>\n",
       "      <td>2019-09-02 21:50:00</td>\n",
       "      <td>1446</td>\n",
       "      <td>dairy</td>\n",
       "    </tr>\n",
       "    <tr>\n",
       "      <th>4883</th>\n",
       "      <td>2019-09-02 21:50:00</td>\n",
       "      <td>1447</td>\n",
       "      <td>fruit</td>\n",
       "    </tr>\n",
       "    <tr>\n",
       "      <th>4884</th>\n",
       "      <td>2019-09-02 21:55:00</td>\n",
       "      <td>1430</td>\n",
       "      <td>checkout</td>\n",
       "    </tr>\n",
       "    <tr>\n",
       "      <th>4885</th>\n",
       "      <td>2019-09-02 21:55:00</td>\n",
       "      <td>1433</td>\n",
       "      <td>checkout</td>\n",
       "    </tr>\n",
       "    <tr>\n",
       "      <th>4886</th>\n",
       "      <td>2019-09-02 21:55:00</td>\n",
       "      <td>1437</td>\n",
       "      <td>checkout</td>\n",
       "    </tr>\n",
       "    <tr>\n",
       "      <th>4887</th>\n",
       "      <td>2019-09-02 21:55:00</td>\n",
       "      <td>1439</td>\n",
       "      <td>checkout</td>\n",
       "    </tr>\n",
       "    <tr>\n",
       "      <th>4888</th>\n",
       "      <td>2019-09-02 21:55:00</td>\n",
       "      <td>1440</td>\n",
       "      <td>checkout</td>\n",
       "    </tr>\n",
       "    <tr>\n",
       "      <th>4889</th>\n",
       "      <td>2019-09-02 21:55:00</td>\n",
       "      <td>1441</td>\n",
       "      <td>checkout</td>\n",
       "    </tr>\n",
       "    <tr>\n",
       "      <th>4890</th>\n",
       "      <td>2019-09-02 21:55:00</td>\n",
       "      <td>1443</td>\n",
       "      <td>checkout</td>\n",
       "    </tr>\n",
       "    <tr>\n",
       "      <th>4891</th>\n",
       "      <td>2019-09-02 21:55:00</td>\n",
       "      <td>1445</td>\n",
       "      <td>checkout</td>\n",
       "    </tr>\n",
       "    <tr>\n",
       "      <th>4892</th>\n",
       "      <td>2019-09-02 21:55:00</td>\n",
       "      <td>1446</td>\n",
       "      <td>checkout</td>\n",
       "    </tr>\n",
       "    <tr>\n",
       "      <th>4893</th>\n",
       "      <td>2019-09-02 21:55:00</td>\n",
       "      <td>1447</td>\n",
       "      <td>checkout</td>\n",
       "    </tr>\n",
       "  </tbody>\n",
       "</table>\n",
       "</div>"
      ],
      "text/plain": [
       "                timestamp  customer_no  location\n",
       "4879  2019-09-02 21:49:00         1442  checkout\n",
       "4880  2019-09-02 21:49:00         1444  checkout\n",
       "4881  2019-09-02 21:49:00         1445     dairy\n",
       "4882  2019-09-02 21:50:00         1446     dairy\n",
       "4883  2019-09-02 21:50:00         1447     fruit\n",
       "4884  2019-09-02 21:55:00         1430  checkout\n",
       "4885  2019-09-02 21:55:00         1433  checkout\n",
       "4886  2019-09-02 21:55:00         1437  checkout\n",
       "4887  2019-09-02 21:55:00         1439  checkout\n",
       "4888  2019-09-02 21:55:00         1440  checkout\n",
       "4889  2019-09-02 21:55:00         1441  checkout\n",
       "4890  2019-09-02 21:55:00         1443  checkout\n",
       "4891  2019-09-02 21:55:00         1445  checkout\n",
       "4892  2019-09-02 21:55:00         1446  checkout\n",
       "4893  2019-09-02 21:55:00         1447  checkout"
      ]
     },
     "execution_count": 5,
     "metadata": {},
     "output_type": "execute_result"
    }
   ],
   "source": [
    "lst_dict = []\n",
    "\n",
    "for cust_no in cust_checkout_no_record:\n",
    "    \n",
    "    # assuming that the remaining customers are checked out at 21:55\n",
    "    new_row_dict = {'timestamp':'2019-09-02 21:55:00', 'customer_no':cust_no, 'location':'checkout'}    \n",
    "    lst_dict.append(new_row_dict)\n",
    "\n",
    "#append rows to the dataframe\n",
    "df = df.append(lst_dict, ignore_index=True)\n",
    "\n",
    "df.tail(15)"
   ]
  },
  {
   "cell_type": "code",
   "execution_count": 2,
   "metadata": {
    "scrolled": true
   },
   "outputs": [
    {
     "ename": "NameError",
     "evalue": "name 'pd' is not defined",
     "output_type": "error",
     "traceback": [
      "\u001b[0;31m---------------------------------------------------------------------------\u001b[0m",
      "\u001b[0;31mNameError\u001b[0m                                 Traceback (most recent call last)",
      "\u001b[0;32m<ipython-input-2-1cede4015fac>\u001b[0m in \u001b[0;36m<module>\u001b[0;34m\u001b[0m\n\u001b[1;32m      1\u001b[0m \u001b[0;31m# Converting timestamp to datetime\u001b[0m\u001b[0;34m\u001b[0m\u001b[0;34m\u001b[0m\u001b[0;34m\u001b[0m\u001b[0m\n\u001b[1;32m      2\u001b[0m \u001b[0;31m#df.index = pd.to_datetime(df.index)\u001b[0m\u001b[0;34m\u001b[0m\u001b[0;34m\u001b[0m\u001b[0;34m\u001b[0m\u001b[0m\n\u001b[0;32m----> 3\u001b[0;31m \u001b[0mdf\u001b[0m\u001b[0;34m.\u001b[0m\u001b[0mtimestamp\u001b[0m \u001b[0;34m=\u001b[0m \u001b[0mpd\u001b[0m\u001b[0;34m.\u001b[0m\u001b[0mto_datetime\u001b[0m\u001b[0;34m(\u001b[0m\u001b[0mdf\u001b[0m\u001b[0;34m.\u001b[0m\u001b[0mtimestamp\u001b[0m\u001b[0;34m)\u001b[0m\u001b[0;34m\u001b[0m\u001b[0;34m\u001b[0m\u001b[0m\n\u001b[0m\u001b[1;32m      4\u001b[0m \u001b[0mdf\u001b[0m\u001b[0;34m.\u001b[0m\u001b[0mtail\u001b[0m\u001b[0;34m(\u001b[0m\u001b[0;36m3\u001b[0m\u001b[0;34m)\u001b[0m\u001b[0;34m\u001b[0m\u001b[0;34m\u001b[0m\u001b[0m\n",
      "\u001b[0;31mNameError\u001b[0m: name 'pd' is not defined"
     ]
    }
   ],
   "source": [
    "# Converting timestamp to datetime\n",
    "#df.index = pd.to_datetime(df.index)\n",
    "df.timestamp = pd.to_datetime(df.timestamp)\n",
    "df.tail(3)"
   ]
  },
  {
   "cell_type": "markdown",
   "metadata": {},
   "source": [
    "### time each customer spent in the market:"
   ]
  },
  {
   "cell_type": "code",
   "execution_count": 7,
   "metadata": {},
   "outputs": [],
   "source": [
    "minutes_spend_list = []\n",
    "\n",
    "# loop through the customer id columnn:\n",
    "for i in range(1, (df['customer_no'].nunique())+1):\n",
    "    df_at = df[df['customer_no']==i] \n",
    "    first_occ = df_at.timestamp[:1].values # get first and last timestamp for current customer_no\n",
    "    last_occ = df_at.timestamp[-1:].values\n",
    "    #print(first_occ, last_occ)\n",
    "    \n",
    "    timediff = (last_occ - first_occ)/60000000000 # nanoseconds to minutes\n",
    "    \n",
    "\n",
    "    # print('customer', i ,'spend', timediff.tolist()[0], 'minute(s) in the supermarket') \n",
    "    minutes_spend_list.append(timediff.tolist()[0])\n"
   ]
  },
  {
   "cell_type": "code",
   "execution_count": 8,
   "metadata": {},
   "outputs": [
    {
     "name": "stdout",
     "output_type": "stream",
     "text": [
      "The average time customers spend in the supermarket is: \n",
      " 6.48 minutes \n",
      " The maximum time customers spend in the supermarket is: \n",
      " 51 minutes \n",
      " The minimum time customers spend in the supermarket is: \n",
      " 1 minute(s) \n",
      " The most commom time customers spend in the supermarket is: \n",
      " 1 minute(s)  \n",
      "\n"
     ]
    }
   ],
   "source": [
    "average = sum(minutes_spend_list) / len(minutes_spend_list)\n",
    "max_time = max(minutes_spend_list)\n",
    "min_time = min(minutes_spend_list)\n",
    "\n",
    "def most_common(lst):\n",
    "    return max(set(lst), key=lst.count)\n",
    "\n",
    "most_common_time = most_common(minutes_spend_list)\n",
    "\n",
    "print(\n",
    "    'The average time customers spend in the supermarket is: \\n', \n",
    "      round(average, 2), 'minutes \\n', \n",
    "    'The maximum time customers spend in the supermarket is: \\n',\n",
    "      round(max_time, 2), 'minutes \\n', \n",
    "    'The minimum time customers spend in the supermarket is: \\n',\n",
    "      round(min_time, 2), 'minute(s) \\n', \n",
    "    'The most commom time customers spend in the supermarket is: \\n',\n",
    "      round(most_common_time, 2), 'minute(s)  \\n', \n",
    "     )"
   ]
  },
  {
   "cell_type": "code",
   "execution_count": null,
   "metadata": {},
   "outputs": [],
   "source": []
  }
 ],
 "metadata": {
  "kernelspec": {
   "display_name": "Python 3",
   "language": "python",
   "name": "python3"
  },
  "language_info": {
   "codemirror_mode": {
    "name": "ipython",
    "version": 3
   },
   "file_extension": ".py",
   "mimetype": "text/x-python",
   "name": "python",
   "nbconvert_exporter": "python",
   "pygments_lexer": "ipython3",
   "version": "3.8.5"
  }
 },
 "nbformat": 4,
 "nbformat_minor": 4
}
